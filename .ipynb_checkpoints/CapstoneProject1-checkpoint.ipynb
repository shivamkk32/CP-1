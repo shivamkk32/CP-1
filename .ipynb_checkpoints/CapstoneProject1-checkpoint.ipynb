{
 "cells": [
  {
   "cell_type": "code",
   "execution_count": 2,
   "metadata": {},
   "outputs": [],
   "source": [
    "%matplotlib inline\n",
    "import numpy as np\n",
    "import scipy as sp\n",
    "import matplotlib as mpl\n",
    "import matplotlib.cm as cm\n",
    "import matplotlib.pyplot as plt\n",
    "import pandas as pd\n",
    "import seaborn as sns"
   ]
  },
  {
   "cell_type": "code",
   "execution_count": 3,
   "metadata": {},
   "outputs": [],
   "source": [
    "allProductDf = pd.read_csv('./allProduct.csv')"
   ]
  },
  {
   "cell_type": "code",
   "execution_count": 33,
   "metadata": {},
   "outputs": [],
   "source": [
    "df=pd.DataFrame() "
   ]
  },
  {
   "cell_type": "code",
   "execution_count": 4,
   "metadata": {},
   "outputs": [
    {
     "data": {
      "text/html": [
       "<div>\n",
       "<style scoped>\n",
       "    .dataframe tbody tr th:only-of-type {\n",
       "        vertical-align: middle;\n",
       "    }\n",
       "\n",
       "    .dataframe tbody tr th {\n",
       "        vertical-align: top;\n",
       "    }\n",
       "\n",
       "    .dataframe thead th {\n",
       "        text-align: right;\n",
       "    }\n",
       "</style>\n",
       "<table border=\"1\" class=\"dataframe\">\n",
       "  <thead>\n",
       "    <tr style=\"text-align: right;\">\n",
       "      <th></th>\n",
       "      <th>Unnamed: 0</th>\n",
       "      <th>order_id</th>\n",
       "      <th>product_id</th>\n",
       "      <th>order_status</th>\n",
       "      <th>review_score</th>\n",
       "      <th>price</th>\n",
       "      <th>freight_value</th>\n",
       "      <th>review_comment_title</th>\n",
       "      <th>review_comment_message</th>\n",
       "      <th>product_category_name_english</th>\n",
       "    </tr>\n",
       "  </thead>\n",
       "  <tbody>\n",
       "    <tr>\n",
       "      <th>0</th>\n",
       "      <td>0</td>\n",
       "      <td>00010242fe8c5a6d1ba2dd792cb16214</td>\n",
       "      <td>4244733e06e7ecb4970a6e2683c13e61</td>\n",
       "      <td>delivered</td>\n",
       "      <td>5</td>\n",
       "      <td>58.9</td>\n",
       "      <td>13.29</td>\n",
       "      <td>NaN</td>\n",
       "      <td>Perfeito, produto entregue antes do combinado.</td>\n",
       "      <td>cool_stuff</td>\n",
       "    </tr>\n",
       "    <tr>\n",
       "      <th>1</th>\n",
       "      <td>1</td>\n",
       "      <td>130898c0987d1801452a8ed92a670612</td>\n",
       "      <td>4244733e06e7ecb4970a6e2683c13e61</td>\n",
       "      <td>delivered</td>\n",
       "      <td>5</td>\n",
       "      <td>55.9</td>\n",
       "      <td>17.96</td>\n",
       "      <td>NaN</td>\n",
       "      <td>lannister como sempre, entregou certinho e den...</td>\n",
       "      <td>cool_stuff</td>\n",
       "    </tr>\n",
       "    <tr>\n",
       "      <th>2</th>\n",
       "      <td>2</td>\n",
       "      <td>532ed5e14e24ae1f0d735b91524b98b9</td>\n",
       "      <td>4244733e06e7ecb4970a6e2683c13e61</td>\n",
       "      <td>delivered</td>\n",
       "      <td>4</td>\n",
       "      <td>64.9</td>\n",
       "      <td>18.33</td>\n",
       "      <td>super recomendo</td>\n",
       "      <td>carrinho muito bonito</td>\n",
       "      <td>cool_stuff</td>\n",
       "    </tr>\n",
       "    <tr>\n",
       "      <th>3</th>\n",
       "      <td>3</td>\n",
       "      <td>6f8c31653edb8c83e1a739408b5ff750</td>\n",
       "      <td>4244733e06e7ecb4970a6e2683c13e61</td>\n",
       "      <td>delivered</td>\n",
       "      <td>5</td>\n",
       "      <td>58.9</td>\n",
       "      <td>16.17</td>\n",
       "      <td>NaN</td>\n",
       "      <td>NaN</td>\n",
       "      <td>cool_stuff</td>\n",
       "    </tr>\n",
       "    <tr>\n",
       "      <th>4</th>\n",
       "      <td>4</td>\n",
       "      <td>7d19f4ef4d04461989632411b7e588b9</td>\n",
       "      <td>4244733e06e7ecb4970a6e2683c13e61</td>\n",
       "      <td>delivered</td>\n",
       "      <td>5</td>\n",
       "      <td>58.9</td>\n",
       "      <td>13.29</td>\n",
       "      <td>NaN</td>\n",
       "      <td>NaN</td>\n",
       "      <td>cool_stuff</td>\n",
       "    </tr>\n",
       "  </tbody>\n",
       "</table>\n",
       "</div>"
      ],
      "text/plain": [
       "   Unnamed: 0                          order_id  \\\n",
       "0           0  00010242fe8c5a6d1ba2dd792cb16214   \n",
       "1           1  130898c0987d1801452a8ed92a670612   \n",
       "2           2  532ed5e14e24ae1f0d735b91524b98b9   \n",
       "3           3  6f8c31653edb8c83e1a739408b5ff750   \n",
       "4           4  7d19f4ef4d04461989632411b7e588b9   \n",
       "\n",
       "                         product_id order_status  review_score  price  \\\n",
       "0  4244733e06e7ecb4970a6e2683c13e61    delivered             5   58.9   \n",
       "1  4244733e06e7ecb4970a6e2683c13e61    delivered             5   55.9   \n",
       "2  4244733e06e7ecb4970a6e2683c13e61    delivered             4   64.9   \n",
       "3  4244733e06e7ecb4970a6e2683c13e61    delivered             5   58.9   \n",
       "4  4244733e06e7ecb4970a6e2683c13e61    delivered             5   58.9   \n",
       "\n",
       "   freight_value review_comment_title  \\\n",
       "0          13.29                  NaN   \n",
       "1          17.96                  NaN   \n",
       "2          18.33      super recomendo   \n",
       "3          16.17                  NaN   \n",
       "4          13.29                  NaN   \n",
       "\n",
       "                              review_comment_message  \\\n",
       "0     Perfeito, produto entregue antes do combinado.   \n",
       "1  lannister como sempre, entregou certinho e den...   \n",
       "2                              carrinho muito bonito   \n",
       "3                                                NaN   \n",
       "4                                                NaN   \n",
       "\n",
       "  product_category_name_english  \n",
       "0                    cool_stuff  \n",
       "1                    cool_stuff  \n",
       "2                    cool_stuff  \n",
       "3                    cool_stuff  \n",
       "4                    cool_stuff  "
      ]
     },
     "execution_count": 4,
     "metadata": {},
     "output_type": "execute_result"
    }
   ],
   "source": [
    "allProductDf.head()"
   ]
  },
  {
   "cell_type": "code",
   "execution_count": 6,
   "metadata": {},
   "outputs": [
    {
     "data": {
      "text/plain": [
       "delivered      109281\n",
       "shipped          1169\n",
       "canceled          530\n",
       "invoiced          352\n",
       "processing        344\n",
       "unavailable         7\n",
       "approved            3\n",
       "Name: order_status, dtype: int64"
      ]
     },
     "execution_count": 6,
     "metadata": {},
     "output_type": "execute_result"
    }
   ],
   "source": [
    "allProductDf.order_status.value_counts()"
   ]
  },
  {
   "cell_type": "code",
   "execution_count": 5,
   "metadata": {},
   "outputs": [
    {
     "data": {
      "text/plain": [
       "<matplotlib.axes._subplots.AxesSubplot at 0x1e3bf6a3fd0>"
      ]
     },
     "execution_count": 5,
     "metadata": {},
     "output_type": "execute_result"
    },
    {
     "data": {
      "image/png": "[encoded data removed]",
      "text/plain": [
       "<Figure size 432x288 with 2 Axes>"
      ]
     },
     "metadata": {
      "needs_background": "light"
     },
     "output_type": "display_data"
    }
   ],
   "source": [
    "sns.heatmap(allProductDf.isnull(),yticklabels=False,cmap='viridis')"
   ]
  },
  {
   "cell_type": "markdown",
   "metadata": {},
   "source": [
    "# NaN values available only in review comment title and in review comment message  "
   ]
  },
  {
   "cell_type": "code",
   "execution_count": null,
   "metadata": {},
   "outputs": [],
   "source": []
  },
  {
   "cell_type": "code",
   "execution_count": 18,
   "metadata": {},
   "outputs": [],
   "source": [
    "from sklearn.preprocessing import LabelEncoder"
   ]
  },
  {
   "cell_type": "code",
   "execution_count": 20,
   "metadata": {},
   "outputs": [],
   "source": [
    "label_encoder = preprocessing.LabelEncoder()  \n",
    "allProductDf['encodedCategory']= label_encoder.fit_transform(allProductDf['product_category_name_english'])"
   ]
  },
  {
   "cell_type": "raw",
   "metadata": {},
   "source": []
  },
  {
   "cell_type": "code",
   "execution_count": 21,
   "metadata": {},
   "outputs": [],
   "source": [
    "allProductDf['TargetVar']=allProductDf.order_status.apply(lambda x: 1 if x in ['delivered','invoiced'] else 0)\n",
    "\n",
    " "
   ]
  },
  {
   "cell_type": "code",
   "execution_count": 22,
   "metadata": {},
   "outputs": [
    {
     "data": {
      "text/plain": [
       "array([1, 0], dtype=int64)"
      ]
     },
     "execution_count": 22,
     "metadata": {},
     "output_type": "execute_result"
    }
   ],
   "source": [
    "allProductDf.TargetVar.unique()"
   ]
  },
  {
   "cell_type": "code",
   "execution_count": 23,
   "metadata": {},
   "outputs": [
    {
     "data": {
      "text/plain": [
       "<matplotlib.axes._subplots.AxesSubplot at 0x1e3bff5e9d0>"
      ]
     },
     "execution_count": 23,
     "metadata": {},
     "output_type": "execute_result"
    },
    {
     "data": {
      "image/png": "[encoded data removed]",
      "text/plain": [
       "<Figure size 432x288 with 1 Axes>"
      ]
     },
     "metadata": {},
     "output_type": "display_data"
    }
   ],
   "source": [
    "sns.set_style('whitegrid')\n",
    "sns.countplot(x='TargetVar',data=allProductDf)"
   ]
  },
  {
   "cell_type": "code",
   "execution_count": 34,
   "metadata": {},
   "outputs": [],
   "source": [
    "\n",
    "allProductDf['Total_Price'] = allProductDf.price.astype(int) + allProductDf.freight_value.astype(int)\n"
   ]
  },
  {
   "cell_type": "code",
   "execution_count": 26,
   "metadata": {},
   "outputs": [
    {
     "data": {
      "text/html": [
       "<div>\n",
       "<style scoped>\n",
       "    .dataframe tbody tr th:only-of-type {\n",
       "        vertical-align: middle;\n",
       "    }\n",
       "\n",
       "    .dataframe tbody tr th {\n",
       "        vertical-align: top;\n",
       "    }\n",
       "\n",
       "    .dataframe thead th {\n",
       "        text-align: right;\n",
       "    }\n",
       "</style>\n",
       "<table border=\"1\" class=\"dataframe\">\n",
       "  <thead>\n",
       "    <tr style=\"text-align: right;\">\n",
       "      <th></th>\n",
       "      <th>Unnamed: 0</th>\n",
       "      <th>order_id</th>\n",
       "      <th>product_id</th>\n",
       "      <th>order_status</th>\n",
       "      <th>review_score</th>\n",
       "      <th>price</th>\n",
       "      <th>freight_value</th>\n",
       "      <th>review_comment_title</th>\n",
       "      <th>review_comment_message</th>\n",
       "      <th>product_category_name_english</th>\n",
       "      <th>TargetVar</th>\n",
       "      <th>encodedCategory</th>\n",
       "    </tr>\n",
       "  </thead>\n",
       "  <tbody>\n",
       "    <tr>\n",
       "      <th>0</th>\n",
       "      <td>0</td>\n",
       "      <td>00010242fe8c5a6d1ba2dd792cb16214</td>\n",
       "      <td>4244733e06e7ecb4970a6e2683c13e61</td>\n",
       "      <td>delivered</td>\n",
       "      <td>5</td>\n",
       "      <td>58.90</td>\n",
       "      <td>13.29</td>\n",
       "      <td>NaN</td>\n",
       "      <td>Perfeito, produto entregue antes do combinado.</td>\n",
       "      <td>cool_stuff</td>\n",
       "      <td>1</td>\n",
       "      <td>20</td>\n",
       "    </tr>\n",
       "    <tr>\n",
       "      <th>1</th>\n",
       "      <td>1</td>\n",
       "      <td>130898c0987d1801452a8ed92a670612</td>\n",
       "      <td>4244733e06e7ecb4970a6e2683c13e61</td>\n",
       "      <td>delivered</td>\n",
       "      <td>5</td>\n",
       "      <td>55.90</td>\n",
       "      <td>17.96</td>\n",
       "      <td>NaN</td>\n",
       "      <td>lannister como sempre, entregou certinho e den...</td>\n",
       "      <td>cool_stuff</td>\n",
       "      <td>1</td>\n",
       "      <td>20</td>\n",
       "    </tr>\n",
       "    <tr>\n",
       "      <th>2</th>\n",
       "      <td>2</td>\n",
       "      <td>532ed5e14e24ae1f0d735b91524b98b9</td>\n",
       "      <td>4244733e06e7ecb4970a6e2683c13e61</td>\n",
       "      <td>delivered</td>\n",
       "      <td>4</td>\n",
       "      <td>64.90</td>\n",
       "      <td>18.33</td>\n",
       "      <td>super recomendo</td>\n",
       "      <td>carrinho muito bonito</td>\n",
       "      <td>cool_stuff</td>\n",
       "      <td>1</td>\n",
       "      <td>20</td>\n",
       "    </tr>\n",
       "    <tr>\n",
       "      <th>3</th>\n",
       "      <td>3</td>\n",
       "      <td>6f8c31653edb8c83e1a739408b5ff750</td>\n",
       "      <td>4244733e06e7ecb4970a6e2683c13e61</td>\n",
       "      <td>delivered</td>\n",
       "      <td>5</td>\n",
       "      <td>58.90</td>\n",
       "      <td>16.17</td>\n",
       "      <td>NaN</td>\n",
       "      <td>NaN</td>\n",
       "      <td>cool_stuff</td>\n",
       "      <td>1</td>\n",
       "      <td>20</td>\n",
       "    </tr>\n",
       "    <tr>\n",
       "      <th>4</th>\n",
       "      <td>4</td>\n",
       "      <td>7d19f4ef4d04461989632411b7e588b9</td>\n",
       "      <td>4244733e06e7ecb4970a6e2683c13e61</td>\n",
       "      <td>delivered</td>\n",
       "      <td>5</td>\n",
       "      <td>58.90</td>\n",
       "      <td>13.29</td>\n",
       "      <td>NaN</td>\n",
       "      <td>NaN</td>\n",
       "      <td>cool_stuff</td>\n",
       "      <td>1</td>\n",
       "      <td>20</td>\n",
       "    </tr>\n",
       "    <tr>\n",
       "      <th>...</th>\n",
       "      <td>...</td>\n",
       "      <td>...</td>\n",
       "      <td>...</td>\n",
       "      <td>...</td>\n",
       "      <td>...</td>\n",
       "      <td>...</td>\n",
       "      <td>...</td>\n",
       "      <td>...</td>\n",
       "      <td>...</td>\n",
       "      <td>...</td>\n",
       "      <td>...</td>\n",
       "      <td>...</td>\n",
       "    </tr>\n",
       "    <tr>\n",
       "      <th>79977</th>\n",
       "      <td>79977</td>\n",
       "      <td>3be3bae6f665380f803dc59c9053cf26</td>\n",
       "      <td>2b18330ce86ae5c606250b75b499f370</td>\n",
       "      <td>processing</td>\n",
       "      <td>1</td>\n",
       "      <td>49.90</td>\n",
       "      <td>16.79</td>\n",
       "      <td>NaN</td>\n",
       "      <td>NaN</td>\n",
       "      <td>fashion_childrens_clothes</td>\n",
       "      <td>0</td>\n",
       "      <td>29</td>\n",
       "    </tr>\n",
       "    <tr>\n",
       "      <th>80637</th>\n",
       "      <td>80637</td>\n",
       "      <td>3da4b0f0c89bb8fee8a810459e641414</td>\n",
       "      <td>28ac6af4008a402e5039f3e042a36e13</td>\n",
       "      <td>delivered</td>\n",
       "      <td>5</td>\n",
       "      <td>110.00</td>\n",
       "      <td>8.96</td>\n",
       "      <td>NaN</td>\n",
       "      <td>NaN</td>\n",
       "      <td>fashion_childrens_clothes</td>\n",
       "      <td>1</td>\n",
       "      <td>29</td>\n",
       "    </tr>\n",
       "    <tr>\n",
       "      <th>81603</th>\n",
       "      <td>81603</td>\n",
       "      <td>b99217b1fcf2fdeace7b8d869b76cb91</td>\n",
       "      <td>57bdf3098169cccdb62221bd3e089cbd</td>\n",
       "      <td>delivered</td>\n",
       "      <td>5</td>\n",
       "      <td>39.99</td>\n",
       "      <td>10.15</td>\n",
       "      <td>NaN</td>\n",
       "      <td>NaN</td>\n",
       "      <td>fashion_childrens_clothes</td>\n",
       "      <td>1</td>\n",
       "      <td>29</td>\n",
       "    </tr>\n",
       "    <tr>\n",
       "      <th>101651</th>\n",
       "      <td>101651</td>\n",
       "      <td>9fa3a005f89a187501fa1bd63d6125fb</td>\n",
       "      <td>57bdf3098169cccdb62221bd3e089cbd</td>\n",
       "      <td>delivered</td>\n",
       "      <td>5</td>\n",
       "      <td>39.99</td>\n",
       "      <td>14.10</td>\n",
       "      <td>NaN</td>\n",
       "      <td>NaN</td>\n",
       "      <td>fashion_childrens_clothes</td>\n",
       "      <td>1</td>\n",
       "      <td>29</td>\n",
       "    </tr>\n",
       "    <tr>\n",
       "      <th>105647</th>\n",
       "      <td>105647</td>\n",
       "      <td>bede3503afed051733eeb4a84d1adcc5</td>\n",
       "      <td>8db75af9aed3315374db44d7860e25da</td>\n",
       "      <td>delivered</td>\n",
       "      <td>1</td>\n",
       "      <td>100.00</td>\n",
       "      <td>15.45</td>\n",
       "      <td>NaN</td>\n",
       "      <td>boa tarde produto enviado errado, terei que me...</td>\n",
       "      <td>security_and_services</td>\n",
       "      <td>1</td>\n",
       "      <td>61</td>\n",
       "    </tr>\n",
       "  </tbody>\n",
       "</table>\n",
       "<p>352 rows × 12 columns</p>\n",
       "</div>"
      ],
      "text/plain": [
       "        Unnamed: 0                          order_id  \\\n",
       "0                0  00010242fe8c5a6d1ba2dd792cb16214   \n",
       "1                1  130898c0987d1801452a8ed92a670612   \n",
       "2                2  532ed5e14e24ae1f0d735b91524b98b9   \n",
       "3                3  6f8c31653edb8c83e1a739408b5ff750   \n",
       "4                4  7d19f4ef4d04461989632411b7e588b9   \n",
       "...            ...                               ...   \n",
       "79977        79977  3be3bae6f665380f803dc59c9053cf26   \n",
       "80637        80637  3da4b0f0c89bb8fee8a810459e641414   \n",
       "81603        81603  b99217b1fcf2fdeace7b8d869b76cb91   \n",
       "101651      101651  9fa3a005f89a187501fa1bd63d6125fb   \n",
       "105647      105647  bede3503afed051733eeb4a84d1adcc5   \n",
       "\n",
       "                              product_id order_status  review_score   price  \\\n",
       "0       4244733e06e7ecb4970a6e2683c13e61    delivered             5   58.90   \n",
       "1       4244733e06e7ecb4970a6e2683c13e61    delivered             5   55.90   \n",
       "2       4244733e06e7ecb4970a6e2683c13e61    delivered             4   64.90   \n",
       "3       4244733e06e7ecb4970a6e2683c13e61    delivered             5   58.90   \n",
       "4       4244733e06e7ecb4970a6e2683c13e61    delivered             5   58.90   \n",
       "...                                  ...          ...           ...     ...   \n",
       "79977   2b18330ce86ae5c606250b75b499f370   processing             1   49.90   \n",
       "80637   28ac6af4008a402e5039f3e042a36e13    delivered             5  110.00   \n",
       "81603   57bdf3098169cccdb62221bd3e089cbd    delivered             5   39.99   \n",
       "101651  57bdf3098169cccdb62221bd3e089cbd    delivered             5   39.99   \n",
       "105647  8db75af9aed3315374db44d7860e25da    delivered             1  100.00   \n",
       "\n",
       "        freight_value review_comment_title  \\\n",
       "0               13.29                  NaN   \n",
       "1               17.96                  NaN   \n",
       "2               18.33      super recomendo   \n",
       "3               16.17                  NaN   \n",
       "4               13.29                  NaN   \n",
       "...               ...                  ...   \n",
       "79977           16.79                  NaN   \n",
       "80637            8.96                  NaN   \n",
       "81603           10.15                  NaN   \n",
       "101651          14.10                  NaN   \n",
       "105647          15.45                  NaN   \n",
       "\n",
       "                                   review_comment_message  \\\n",
       "0          Perfeito, produto entregue antes do combinado.   \n",
       "1       lannister como sempre, entregou certinho e den...   \n",
       "2                                   carrinho muito bonito   \n",
       "3                                                     NaN   \n",
       "4                                                     NaN   \n",
       "...                                                   ...   \n",
       "79977                                                 NaN   \n",
       "80637                                                 NaN   \n",
       "81603                                                 NaN   \n",
       "101651                                                NaN   \n",
       "105647  boa tarde produto enviado errado, terei que me...   \n",
       "\n",
       "       product_category_name_english  TargetVar  encodedCategory  \n",
       "0                         cool_stuff          1               20  \n",
       "1                         cool_stuff          1               20  \n",
       "2                         cool_stuff          1               20  \n",
       "3                         cool_stuff          1               20  \n",
       "4                         cool_stuff          1               20  \n",
       "...                              ...        ...              ...  \n",
       "79977      fashion_childrens_clothes          0               29  \n",
       "80637      fashion_childrens_clothes          1               29  \n",
       "81603      fashion_childrens_clothes          1               29  \n",
       "101651     fashion_childrens_clothes          1               29  \n",
       "105647         security_and_services          1               61  \n",
       "\n",
       "[352 rows x 12 columns]"
      ]
     },
     "execution_count": 26,
     "metadata": {},
     "output_type": "execute_result"
    }
   ],
   "source": [
    "categorywisePrice.head()"
   ]
  },
  {
   "cell_type": "code",
   "execution_count": 32,
   "metadata": {},
   "outputs": [],
   "source": [
    "allProductDf=allProductDf.drop(['order_status'], axis=1)"
   ]
  },
  {
   "cell_type": "code",
   "execution_count": 54,
   "metadata": {},
   "outputs": [],
   "source": [
    "X=allProductDf.drop(['order_id','product_id','review_comment_title','review_comment_message','product_category_name_english','TargetVar'], axis=1).values"
   ]
  },
  {
   "cell_type": "code",
   "execution_count": 90,
   "metadata": {},
   "outputs": [],
   "source": [
    "y=allProductDf['TargetVar'].values"
   ]
  },
  {
   "cell_type": "code",
   "execution_count": 102,
   "metadata": {},
   "outputs": [],
   "source": [
    "from sklearn.model_selection import train_test_split\n",
    "from sklearn.naive_bayes import GaussianNB\n",
    "from sklearn.metrics import classification_report,accuracy_score,confusion_matrix\n",
    "from sklearn.model_selection import KFold,GridSearchCV"
   ]
  },
  {
   "cell_type": "code",
   "execution_count": 92,
   "metadata": {},
   "outputs": [],
   "source": [
    "gnb = GaussianNB()"
   ]
  },
  {
   "cell_type": "code",
   "execution_count": 57,
   "metadata": {},
   "outputs": [],
   "source": [
    "X_train, X_test, y_train, y_test = train_test_split(X, y, test_size=0.30, random_state=1)"
   ]
  },
  {
   "cell_type": "code",
   "execution_count": 58,
   "metadata": {},
   "outputs": [],
   "source": [
    " "
   ]
  },
  {
   "cell_type": "code",
   "execution_count": 105,
   "metadata": {},
   "outputs": [],
   "source": [
    " y_predGauss = gnb.fit(X_train, y_train).predict(X_test)"
   ]
  },
  {
   "cell_type": "code",
   "execution_count": 107,
   "metadata": {},
   "outputs": [
    {
     "name": "stdout",
     "output_type": "stream",
     "text": [
      "0.9678863487136632\n",
      "[[   21   600]\n",
      " [  476 32409]]\n"
     ]
    }
   ],
   "source": [
    "print(accuracy_score(y_test, y_predGauss))\n",
    "#accuracy_score(y_test, y_pred, normalize=False)\n",
    "print(confusion_matrix(y_test, y_predGauss))"
   ]
  },
  {
   "cell_type": "code",
   "execution_count": 81,
   "metadata": {},
   "outputs": [],
   "source": [
    "#allProductDf.product_category_name_english.unique()"
   ]
  },
  {
   "cell_type": "code",
   "execution_count": 77,
   "metadata": {},
   "outputs": [],
   "source": [
    "#print(allProductDf.loc[allProductDf['product_category_name_english'] =='costruction_tools_tools' ],'TargetVar')"
   ]
  },
  {
   "cell_type": "code",
   "execution_count": 75,
   "metadata": {},
   "outputs": [
    {
     "data": {
      "text/plain": [
       "1    109633\n",
       "0      2053\n",
       "Name: TargetVar, dtype: int64"
      ]
     },
     "execution_count": 75,
     "metadata": {},
     "output_type": "execute_result"
    }
   ],
   "source": [
    "allProductDf.TargetVar.value_counts()"
   ]
  },
  {
   "cell_type": "code",
   "execution_count": 80,
   "metadata": {},
   "outputs": [
    {
     "name": "stdout",
     "output_type": "stream",
     "text": [
      "              precision    recall  f1-score   support\n",
      "\n",
      "           0       0.04      0.03      0.04       621\n",
      "           1       0.98      0.99      0.98     32885\n",
      "\n",
      "    accuracy                           0.97     33506\n",
      "   macro avg       0.51      0.51      0.51     33506\n",
      "weighted avg       0.96      0.97      0.97     33506\n",
      "\n"
     ]
    }
   ],
   "source": [
    "print(classification_report(y_test, y_pred))"
   ]
  },
  {
   "cell_type": "code",
   "execution_count": 82,
   "metadata": {},
   "outputs": [],
   "source": [
    "# Dataset is imbalanced as for the majority class of producy delivered on invoiced\n",
    "#the optimization metrics shows very high value but for the other category the model\n",
    "#performance is very bad."
   ]
  },
  {
   "cell_type": "code",
   "execution_count": 95,
   "metadata": {},
   "outputs": [],
   "source": [
    "#performing logistic regression with Kfold classification and hyperparameter tuning"
   ]
  },
  {
   "cell_type": "code",
   "execution_count": 94,
   "metadata": {},
   "outputs": [],
   "source": [
    "from sklearn.linear_model import LogisticRegression"
   ]
  },
  {
   "cell_type": "code",
   "execution_count": 96,
   "metadata": {},
   "outputs": [],
   "source": [
    "logReg=LogisticRegression()"
   ]
  },
  {
   "cell_type": "code",
   "execution_count": 108,
   "metadata": {},
   "outputs": [],
   "source": [
    "grid={'C':10.0**np.arange(-2,3),'penalty':['l2']}"
   ]
  },
  {
   "cell_type": "code",
   "execution_count": 119,
   "metadata": {},
   "outputs": [],
   "source": [
    "cv=KFold(n_splits=2,shuffle=False,random_state=None)"
   ]
  },
  {
   "cell_type": "code",
   "execution_count": 120,
   "metadata": {},
   "outputs": [
    {
     "name": "stderr",
     "output_type": "stream",
     "text": [
      "C:\\Users\\shiva\\Anaconda3\\lib\\site-packages\\sklearn\\linear_model\\_logistic.py:762: ConvergenceWarning: lbfgs failed to converge (status=1):\n",
      "STOP: TOTAL NO. of ITERATIONS REACHED LIMIT.\n",
      "\n",
      "Increase the number of iterations (max_iter) or scale the data as shown in:\n",
      "    https://scikit-learn.org/stable/modules/preprocessing.html\n",
      "Please also refer to the documentation for alternative solver options:\n",
      "    https://scikit-learn.org/stable/modules/linear_model.html#logistic-regression\n",
      "  n_iter_i = _check_optimize_result(\n"
     ]
    }
   ],
   "source": [
    "clf=GridSearchCV(logReg,grid,cv=cv,n_jobs=-1,scoring='f1_macro')\n",
    "clf.fit(X_train, y_train)\n",
    "y_pred=clf.predict(X_test)"
   ]
  },
  {
   "cell_type": "code",
   "execution_count": 121,
   "metadata": {
    "scrolled": true
   },
   "outputs": [
    {
     "name": "stderr",
     "output_type": "stream",
     "text": [
      "C:\\Users\\shiva\\Anaconda3\\lib\\site-packages\\sklearn\\metrics\\_classification.py:1221: UndefinedMetricWarning: Precision and F-score are ill-defined and being set to 0.0 in labels with no predicted samples. Use `zero_division` parameter to control this behavior.\n",
      "  _warn_prf(average, modifier, msg_start, len(result))\n"
     ]
    },
    {
     "name": "stdout",
     "output_type": "stream",
     "text": [
      "              precision    recall  f1-score   support\n",
      "\n",
      "           0       0.00      0.00      0.00       621\n",
      "           1       0.98      1.00      0.99     32885\n",
      "\n",
      "    accuracy                           0.98     33506\n",
      "   macro avg       0.49      0.50      0.50     33506\n",
      "weighted avg       0.96      0.98      0.97     33506\n",
      "\n",
      "[[    0   621]\n",
      " [    0 32885]]\n",
      "0.9814660060884618\n"
     ]
    }
   ],
   "source": [
    "print(classification_report(y_test, y_pred))\n",
    "print(confusion_matrix(y_test, y_pred))\n",
    "print(accuracy_score(y_test, y_pred))"
   ]
  },
  {
   "cell_type": "code",
   "execution_count": 122,
   "metadata": {},
   "outputs": [],
   "source": [
    "from sklearn.ensemble import RandomForestClassifier\n",
    "rf = RandomForestClassifier()\n",
    "rf.fit(X_train, y_train)\n",
    "y_pred=rf.predict(X_test)"
   ]
  },
  {
   "cell_type": "code",
   "execution_count": 123,
   "metadata": {},
   "outputs": [
    {
     "name": "stdout",
     "output_type": "stream",
     "text": [
      "              precision    recall  f1-score   support\n",
      "\n",
      "           0       0.65      0.16      0.26       621\n",
      "           1       0.98      1.00      0.99     32885\n",
      "\n",
      "    accuracy                           0.98     33506\n",
      "   macro avg       0.81      0.58      0.62     33506\n",
      "weighted avg       0.98      0.98      0.98     33506\n",
      "\n",
      "[[  100   521]\n",
      " [   55 32830]]\n",
      "0.9828090491255298\n"
     ]
    }
   ],
   "source": [
    "print(classification_report(y_test, y_pred))\n",
    "print(confusion_matrix(y_test, y_pred))\n",
    "print(accuracy_score(y_test, y_pred))"
   ]
  },
  {
   "cell_type": "code",
   "execution_count": 124,
   "metadata": {},
   "outputs": [],
   "source": [
    "from sklearn.tree import DecisionTreeClassifier\n",
    "decisiontree = RandomForestClassifier()\n",
    "decisiontree.fit(X_train, y_train)\n",
    "y_pred=decisiontree.predict(X_test)"
   ]
  },
  {
   "cell_type": "code",
   "execution_count": 125,
   "metadata": {},
   "outputs": [
    {
     "name": "stdout",
     "output_type": "stream",
     "text": [
      "              precision    recall  f1-score   support\n",
      "\n",
      "           0       0.63      0.17      0.26       621\n",
      "           1       0.98      1.00      0.99     32885\n",
      "\n",
      "    accuracy                           0.98     33506\n",
      "   macro avg       0.81      0.58      0.63     33506\n",
      "weighted avg       0.98      0.98      0.98     33506\n",
      "\n",
      "[[  103   518]\n",
      " [   60 32825]]\n",
      "0.9827493583238823\n"
     ]
    }
   ],
   "source": [
    "print(classification_report(y_test, y_pred))\n",
    "print(confusion_matrix(y_test, y_pred))\n",
    "print(accuracy_score(y_test, y_pred))"
   ]
  },
  {
   "cell_type": "code",
   "execution_count": null,
   "metadata": {},
   "outputs": [],
   "source": []
  }
 ],
 "metadata": {
  "kernelspec": {
   "display_name": "Python 3",
   "language": "python",
   "name": "python3"
  },
  "language_info": {
   "codemirror_mode": {
    "name": "ipython",
    "version": 3
   },
   "file_extension": ".py",
   "mimetype": "text/x-python",
   "name": "python",
   "nbconvert_exporter": "python",
   "pygments_lexer": "ipython3",
   "version": "3.8.3"
  }
 },
 "nbformat": 4,
 "nbformat_minor": 4
}
