{
 "cells": [
  {
   "cell_type": "code",
   "execution_count": 1,
   "metadata": {},
   "outputs": [],
   "source": [
    "%matplotlib inline\n",
    "import numpy as np\n",
    "import scipy as sp\n",
    "import matplotlib as mpl\n",
    "import matplotlib.cm as cm\n",
    "import matplotlib.pyplot as plt\n",
    "import pandas as pd\n",
    "import seaborn as sns"
   ]
  },
  {
   "cell_type": "code",
   "execution_count": 2,
   "metadata": {},
   "outputs": [
    {
     "data": {
      "text/html": [
       "        <script type=\"text/javascript\">\n",
       "        window.PlotlyConfig = {MathJaxConfig: 'local'};\n",
       "        if (window.MathJax) {MathJax.Hub.Config({SVG: {font: \"STIX-Web\"}});}\n",
       "        if (typeof require !== 'undefined') {\n",
       "        require.undef(\"plotly\");\n",
       "        requirejs.config({\n",
       "            paths: {\n",
       "                'plotly': ['https://cdn.plot.ly/plotly-latest.min']\n",
       "            }\n",
       "        });\n",
       "        require(['plotly'], function(Plotly) {\n",
       "            window._Plotly = Plotly;\n",
       "        });\n",
       "        }\n",
       "        </script>\n",
       "        "
      ]
     },
     "metadata": {},
     "output_type": "display_data"
    }
   ],
   "source": [
    "\n",
    "import seaborn as sns\n",
    "plt.style.use('fivethirtyeight')\n",
    "sns.set()\n",
    "%matplotlib inline\n",
    "import plotly.offline as py\n",
    "py.init_notebook_mode(connected=True)\n",
    "import plotly.graph_objs as go\n",
    "import statsmodels.api as sm\n",
    "#import xgboost as xgb\n",
    "import lightgbm as lgb\n",
    "from sklearn.model_selection import train_test_split\n",
    "\n",
    "import warnings\n",
    "# import the_module_that_warns\n",
    "\n",
    "warnings.filterwarnings(\"ignore\")\n",
    "\n",
    "#from fbprophet import Prophet"
   ]
  },
  {
   "cell_type": "code",
   "execution_count": 3,
   "metadata": {},
   "outputs": [],
   "source": [
    "allProductDf = pd.read_csv('./allProduct.csv')"
   ]
  },
  {
   "cell_type": "code",
   "execution_count": 4,
   "metadata": {},
   "outputs": [
    {
     "data": {
      "text/html": [
       "<div>\n",
       "<style scoped>\n",
       "    .dataframe tbody tr th:only-of-type {\n",
       "        vertical-align: middle;\n",
       "    }\n",
       "\n",
       "    .dataframe tbody tr th {\n",
       "        vertical-align: top;\n",
       "    }\n",
       "\n",
       "    .dataframe thead th {\n",
       "        text-align: right;\n",
       "    }\n",
       "</style>\n",
       "<table border=\"1\" class=\"dataframe\">\n",
       "  <thead>\n",
       "    <tr style=\"text-align: right;\">\n",
       "      <th></th>\n",
       "      <th>Unnamed: 0</th>\n",
       "      <th>price</th>\n",
       "      <th>freight_value</th>\n",
       "      <th>review_score</th>\n",
       "      <th>product_photos_qty</th>\n",
       "      <th>product_weight_g</th>\n",
       "      <th>product_length_cm</th>\n",
       "      <th>product_height_cm</th>\n",
       "      <th>product_width_cm</th>\n",
       "      <th>product_category_name_english</th>\n",
       "      <th>order_status</th>\n",
       "      <th>order_purchase_timestamp</th>\n",
       "      <th>order_estimated_delivery_date</th>\n",
       "      <th>payment_installments</th>\n",
       "      <th>payment_value</th>\n",
       "      <th>encodedCategory</th>\n",
       "      <th>category_count</th>\n",
       "      <th>Days_to_deliver</th>\n",
       "    </tr>\n",
       "  </thead>\n",
       "  <tbody>\n",
       "    <tr>\n",
       "      <th>0</th>\n",
       "      <td>0</td>\n",
       "      <td>58.9</td>\n",
       "      <td>13.29</td>\n",
       "      <td>5</td>\n",
       "      <td>4.0</td>\n",
       "      <td>650.0</td>\n",
       "      <td>28.0</td>\n",
       "      <td>9.0</td>\n",
       "      <td>14.0</td>\n",
       "      <td>cool_stuff</td>\n",
       "      <td>delivered</td>\n",
       "      <td>2017-09-13 08:59:02</td>\n",
       "      <td>2017-09-29 00:00:00</td>\n",
       "      <td>2</td>\n",
       "      <td>72.19</td>\n",
       "      <td>20</td>\n",
       "      <td>3999</td>\n",
       "      <td>15.625671</td>\n",
       "    </tr>\n",
       "    <tr>\n",
       "      <th>1</th>\n",
       "      <td>1</td>\n",
       "      <td>55.9</td>\n",
       "      <td>17.96</td>\n",
       "      <td>5</td>\n",
       "      <td>4.0</td>\n",
       "      <td>650.0</td>\n",
       "      <td>28.0</td>\n",
       "      <td>9.0</td>\n",
       "      <td>14.0</td>\n",
       "      <td>cool_stuff</td>\n",
       "      <td>delivered</td>\n",
       "      <td>2017-06-28 11:52:20</td>\n",
       "      <td>2017-07-26 00:00:00</td>\n",
       "      <td>1</td>\n",
       "      <td>73.86</td>\n",
       "      <td>20</td>\n",
       "      <td>3999</td>\n",
       "      <td>27.505324</td>\n",
       "    </tr>\n",
       "    <tr>\n",
       "      <th>2</th>\n",
       "      <td>2</td>\n",
       "      <td>64.9</td>\n",
       "      <td>18.33</td>\n",
       "      <td>4</td>\n",
       "      <td>4.0</td>\n",
       "      <td>650.0</td>\n",
       "      <td>28.0</td>\n",
       "      <td>9.0</td>\n",
       "      <td>14.0</td>\n",
       "      <td>cool_stuff</td>\n",
       "      <td>delivered</td>\n",
       "      <td>2018-05-18 10:25:53</td>\n",
       "      <td>2018-06-07 00:00:00</td>\n",
       "      <td>2</td>\n",
       "      <td>83.23</td>\n",
       "      <td>20</td>\n",
       "      <td>3999</td>\n",
       "      <td>19.565359</td>\n",
       "    </tr>\n",
       "    <tr>\n",
       "      <th>3</th>\n",
       "      <td>3</td>\n",
       "      <td>58.9</td>\n",
       "      <td>16.17</td>\n",
       "      <td>5</td>\n",
       "      <td>4.0</td>\n",
       "      <td>650.0</td>\n",
       "      <td>28.0</td>\n",
       "      <td>9.0</td>\n",
       "      <td>14.0</td>\n",
       "      <td>cool_stuff</td>\n",
       "      <td>delivered</td>\n",
       "      <td>2017-08-01 18:38:42</td>\n",
       "      <td>2017-08-25 00:00:00</td>\n",
       "      <td>3</td>\n",
       "      <td>75.07</td>\n",
       "      <td>20</td>\n",
       "      <td>3999</td>\n",
       "      <td>23.223125</td>\n",
       "    </tr>\n",
       "    <tr>\n",
       "      <th>4</th>\n",
       "      <td>4</td>\n",
       "      <td>58.9</td>\n",
       "      <td>13.29</td>\n",
       "      <td>5</td>\n",
       "      <td>4.0</td>\n",
       "      <td>650.0</td>\n",
       "      <td>28.0</td>\n",
       "      <td>9.0</td>\n",
       "      <td>14.0</td>\n",
       "      <td>cool_stuff</td>\n",
       "      <td>delivered</td>\n",
       "      <td>2017-08-10 21:48:40</td>\n",
       "      <td>2017-09-01 00:00:00</td>\n",
       "      <td>4</td>\n",
       "      <td>72.19</td>\n",
       "      <td>20</td>\n",
       "      <td>3999</td>\n",
       "      <td>21.091204</td>\n",
       "    </tr>\n",
       "  </tbody>\n",
       "</table>\n",
       "</div>"
      ],
      "text/plain": [
       "   Unnamed: 0  price  freight_value  review_score  product_photos_qty  \\\n",
       "0           0   58.9          13.29             5                 4.0   \n",
       "1           1   55.9          17.96             5                 4.0   \n",
       "2           2   64.9          18.33             4                 4.0   \n",
       "3           3   58.9          16.17             5                 4.0   \n",
       "4           4   58.9          13.29             5                 4.0   \n",
       "\n",
       "   product_weight_g  product_length_cm  product_height_cm  product_width_cm  \\\n",
       "0             650.0               28.0                9.0              14.0   \n",
       "1             650.0               28.0                9.0              14.0   \n",
       "2             650.0               28.0                9.0              14.0   \n",
       "3             650.0               28.0                9.0              14.0   \n",
       "4             650.0               28.0                9.0              14.0   \n",
       "\n",
       "  product_category_name_english order_status order_purchase_timestamp  \\\n",
       "0                    cool_stuff    delivered      2017-09-13 08:59:02   \n",
       "1                    cool_stuff    delivered      2017-06-28 11:52:20   \n",
       "2                    cool_stuff    delivered      2018-05-18 10:25:53   \n",
       "3                    cool_stuff    delivered      2017-08-01 18:38:42   \n",
       "4                    cool_stuff    delivered      2017-08-10 21:48:40   \n",
       "\n",
       "  order_estimated_delivery_date  payment_installments  payment_value  \\\n",
       "0           2017-09-29 00:00:00                     2          72.19   \n",
       "1           2017-07-26 00:00:00                     1          73.86   \n",
       "2           2018-06-07 00:00:00                     2          83.23   \n",
       "3           2017-08-25 00:00:00                     3          75.07   \n",
       "4           2017-09-01 00:00:00                     4          72.19   \n",
       "\n",
       "   encodedCategory  category_count  Days_to_deliver  \n",
       "0               20            3999        15.625671  \n",
       "1               20            3999        27.505324  \n",
       "2               20            3999        19.565359  \n",
       "3               20            3999        23.223125  \n",
       "4               20            3999        21.091204  "
      ]
     },
     "execution_count": 4,
     "metadata": {},
     "output_type": "execute_result"
    }
   ],
   "source": [
    "allProductDf.head()"
   ]
  },
  {
   "cell_type": "code",
   "execution_count": 92,
   "metadata": {},
   "outputs": [],
   "source": [
    "testDf=allProductDf.drop(['Unnamed: 0','order_estimated_delivery_date','payment_installments','category_count','order_status'], axis=1)"
   ]
  },
  {
   "cell_type": "code",
   "execution_count": 93,
   "metadata": {},
   "outputs": [],
   "source": [
    "testDf['Actual Payment value']=testDf['price']+testDf['freight_value']"
   ]
  },
  {
   "cell_type": "code",
   "execution_count": 94,
   "metadata": {},
   "outputs": [],
   "source": [
    "testDf['order_purchase_timestamp']= pd.to_datetime(testDf['order_purchase_timestamp'])\n",
    "testDf['Week']=testDf['order_purchase_timestamp'].dt.week"
   ]
  },
  {
   "cell_type": "code",
   "execution_count": 95,
   "metadata": {},
   "outputs": [],
   "source": [
    "mainDf=testDf[['Week','product_category_name_english','encodedCategory','payment_value','Actual Payment value','review_score','Days_to_deliver']]"
   ]
  },
  {
   "cell_type": "code",
   "execution_count": 96,
   "metadata": {},
   "outputs": [],
   "source": [
    "mainDf=mainDf.groupby(['Week','product_category_name_english']).agg({'encodedCategory':'first','product_category_name_english':'count','payment_value':'mean', 'Actual Payment value':'mean', 'review_score':'mean','Days_to_deliver':'mean'})"
   ]
  },
  {
   "cell_type": "code",
   "execution_count": 97,
   "metadata": {},
   "outputs": [],
   "source": [
    "mainDf.columns = ['encodedCategory', 'count_perCategory', 'paymentValue','final_AmountPaid','Review_score','Days_to_deliver']"
   ]
  },
  {
   "cell_type": "code",
   "execution_count": 98,
   "metadata": {},
   "outputs": [],
   "source": [
    "#mainDf.final_AmountPaid=mainDf.final_AmountPaid-(mainDf.final_AmountPaid/2)"
   ]
  },
  {
   "cell_type": "code",
   "execution_count": 99,
   "metadata": {},
   "outputs": [],
   "source": [
    "mainDf=mainDf.reset_index(level=['product_category_name_english','Week'])"
   ]
  },
  {
   "cell_type": "code",
   "execution_count": 100,
   "metadata": {},
   "outputs": [],
   "source": [
    "mainDf[\"DiscountPercent\"]=(mainDf['paymentValue']-mainDf['final_AmountPaid'])/mainDf['paymentValue']"
   ]
  },
  {
   "cell_type": "code",
   "execution_count": 101,
   "metadata": {},
   "outputs": [],
   "source": [
    "mainDf[\"DiscountPercent\"]=mainDf.DiscountPercent.apply(lambda x: 0 if x <=0 else x*100)"
   ]
  },
  {
   "cell_type": "code",
   "execution_count": 102,
   "metadata": {},
   "outputs": [],
   "source": [
    "sumList=[]\n",
    "for ind in mainDf.index: \n",
    "    #print(mainDf['encodedCategory'][ind], mainDf['Week'][ind]) \n",
    "    week=mainDf['Week'][ind]\n",
    "    category=mainDf['encodedCategory'][ind]\n",
    "    listWeek=list(range(week-6, week))\n",
    "    #print(listWeek)\n",
    "    salesSum=mainDf.loc[(mainDf['encodedCategory'] == category) & mainDf['Week'].isin(listWeek),'count_perCategory'].sum()\n",
    "    salesAvg=salesSum/6\n",
    "    #print(salesAvg)\n",
    "    sumList.append(salesAvg) \n",
    "    \n",
    "    \n",
    "    "
   ]
  },
  {
   "cell_type": "code",
   "execution_count": 103,
   "metadata": {},
   "outputs": [],
   "source": [
    "mainDf[\"SaleRecord_last6week\"]=sumList"
   ]
  },
  {
   "cell_type": "code",
   "execution_count": 104,
   "metadata": {},
   "outputs": [
    {
     "data": {
      "text/html": [
       "<div>\n",
       "<style scoped>\n",
       "    .dataframe tbody tr th:only-of-type {\n",
       "        vertical-align: middle;\n",
       "    }\n",
       "\n",
       "    .dataframe tbody tr th {\n",
       "        vertical-align: top;\n",
       "    }\n",
       "\n",
       "    .dataframe thead th {\n",
       "        text-align: right;\n",
       "    }\n",
       "</style>\n",
       "<table border=\"1\" class=\"dataframe\">\n",
       "  <thead>\n",
       "    <tr style=\"text-align: right;\">\n",
       "      <th></th>\n",
       "      <th>Week</th>\n",
       "      <th>product_category_name_english</th>\n",
       "      <th>encodedCategory</th>\n",
       "      <th>count_perCategory</th>\n",
       "      <th>paymentValue</th>\n",
       "      <th>final_AmountPaid</th>\n",
       "      <th>Review_score</th>\n",
       "      <th>Days_to_deliver</th>\n",
       "      <th>DiscountPercent</th>\n",
       "      <th>SaleRecord_last6week</th>\n",
       "    </tr>\n",
       "  </thead>\n",
       "  <tbody>\n",
       "    <tr>\n",
       "      <th>0</th>\n",
       "      <td>1</td>\n",
       "      <td>agro_industry_and_commerce</td>\n",
       "      <td>0</td>\n",
       "      <td>4</td>\n",
       "      <td>624.422500</td>\n",
       "      <td>624.422500</td>\n",
       "      <td>3.250000</td>\n",
       "      <td>30.078073</td>\n",
       "      <td>0.000000</td>\n",
       "      <td>0.000000</td>\n",
       "    </tr>\n",
       "    <tr>\n",
       "      <th>1</th>\n",
       "      <td>1</td>\n",
       "      <td>air_conditioning</td>\n",
       "      <td>1</td>\n",
       "      <td>2</td>\n",
       "      <td>240.350000</td>\n",
       "      <td>240.350000</td>\n",
       "      <td>3.000000</td>\n",
       "      <td>27.333142</td>\n",
       "      <td>0.000000</td>\n",
       "      <td>0.000000</td>\n",
       "    </tr>\n",
       "    <tr>\n",
       "      <th>2</th>\n",
       "      <td>1</td>\n",
       "      <td>art</td>\n",
       "      <td>2</td>\n",
       "      <td>3</td>\n",
       "      <td>149.023333</td>\n",
       "      <td>149.023333</td>\n",
       "      <td>4.000000</td>\n",
       "      <td>26.532207</td>\n",
       "      <td>0.000000</td>\n",
       "      <td>0.000000</td>\n",
       "    </tr>\n",
       "    <tr>\n",
       "      <th>3</th>\n",
       "      <td>1</td>\n",
       "      <td>audio</td>\n",
       "      <td>4</td>\n",
       "      <td>2</td>\n",
       "      <td>432.745000</td>\n",
       "      <td>432.745000</td>\n",
       "      <td>3.000000</td>\n",
       "      <td>30.318096</td>\n",
       "      <td>0.000000</td>\n",
       "      <td>0.000000</td>\n",
       "    </tr>\n",
       "    <tr>\n",
       "      <th>4</th>\n",
       "      <td>1</td>\n",
       "      <td>auto</td>\n",
       "      <td>5</td>\n",
       "      <td>57</td>\n",
       "      <td>179.637193</td>\n",
       "      <td>155.896316</td>\n",
       "      <td>4.315789</td>\n",
       "      <td>27.071564</td>\n",
       "      <td>13.216014</td>\n",
       "      <td>0.000000</td>\n",
       "    </tr>\n",
       "    <tr>\n",
       "      <th>...</th>\n",
       "      <td>...</td>\n",
       "      <td>...</td>\n",
       "      <td>...</td>\n",
       "      <td>...</td>\n",
       "      <td>...</td>\n",
       "      <td>...</td>\n",
       "      <td>...</td>\n",
       "      <td>...</td>\n",
       "      <td>...</td>\n",
       "      <td>...</td>\n",
       "    </tr>\n",
       "    <tr>\n",
       "      <th>95</th>\n",
       "      <td>2</td>\n",
       "      <td>home_confort</td>\n",
       "      <td>47</td>\n",
       "      <td>6</td>\n",
       "      <td>118.450000</td>\n",
       "      <td>139.313333</td>\n",
       "      <td>3.500000</td>\n",
       "      <td>24.236792</td>\n",
       "      <td>0.000000</td>\n",
       "      <td>0.833333</td>\n",
       "    </tr>\n",
       "    <tr>\n",
       "      <th>96</th>\n",
       "      <td>2</td>\n",
       "      <td>home_construction</td>\n",
       "      <td>48</td>\n",
       "      <td>13</td>\n",
       "      <td>485.085385</td>\n",
       "      <td>249.609231</td>\n",
       "      <td>3.692308</td>\n",
       "      <td>29.410897</td>\n",
       "      <td>48.543238</td>\n",
       "      <td>0.666667</td>\n",
       "    </tr>\n",
       "    <tr>\n",
       "      <th>97</th>\n",
       "      <td>2</td>\n",
       "      <td>housewares</td>\n",
       "      <td>49</td>\n",
       "      <td>91</td>\n",
       "      <td>159.828571</td>\n",
       "      <td>163.546374</td>\n",
       "      <td>3.857143</td>\n",
       "      <td>27.817176</td>\n",
       "      <td>0.000000</td>\n",
       "      <td>10.833333</td>\n",
       "    </tr>\n",
       "    <tr>\n",
       "      <th>98</th>\n",
       "      <td>2</td>\n",
       "      <td>industry_commerce_and_business</td>\n",
       "      <td>50</td>\n",
       "      <td>6</td>\n",
       "      <td>242.041667</td>\n",
       "      <td>122.021667</td>\n",
       "      <td>3.000000</td>\n",
       "      <td>23.327348</td>\n",
       "      <td>49.586504</td>\n",
       "      <td>1.000000</td>\n",
       "    </tr>\n",
       "    <tr>\n",
       "      <th>99</th>\n",
       "      <td>2</td>\n",
       "      <td>kitchen_dining_laundry_garden_furniture</td>\n",
       "      <td>51</td>\n",
       "      <td>3</td>\n",
       "      <td>206.220000</td>\n",
       "      <td>206.220000</td>\n",
       "      <td>4.333333</td>\n",
       "      <td>31.644610</td>\n",
       "      <td>0.000000</td>\n",
       "      <td>0.666667</td>\n",
       "    </tr>\n",
       "  </tbody>\n",
       "</table>\n",
       "<p>100 rows × 10 columns</p>\n",
       "</div>"
      ],
      "text/plain": [
       "    Week            product_category_name_english  encodedCategory  \\\n",
       "0      1               agro_industry_and_commerce                0   \n",
       "1      1                         air_conditioning                1   \n",
       "2      1                                      art                2   \n",
       "3      1                                    audio                4   \n",
       "4      1                                     auto                5   \n",
       "..   ...                                      ...              ...   \n",
       "95     2                             home_confort               47   \n",
       "96     2                        home_construction               48   \n",
       "97     2                               housewares               49   \n",
       "98     2           industry_commerce_and_business               50   \n",
       "99     2  kitchen_dining_laundry_garden_furniture               51   \n",
       "\n",
       "    count_perCategory  paymentValue  final_AmountPaid  Review_score  \\\n",
       "0                   4    624.422500        624.422500      3.250000   \n",
       "1                   2    240.350000        240.350000      3.000000   \n",
       "2                   3    149.023333        149.023333      4.000000   \n",
       "3                   2    432.745000        432.745000      3.000000   \n",
       "4                  57    179.637193        155.896316      4.315789   \n",
       "..                ...           ...               ...           ...   \n",
       "95                  6    118.450000        139.313333      3.500000   \n",
       "96                 13    485.085385        249.609231      3.692308   \n",
       "97                 91    159.828571        163.546374      3.857143   \n",
       "98                  6    242.041667        122.021667      3.000000   \n",
       "99                  3    206.220000        206.220000      4.333333   \n",
       "\n",
       "    Days_to_deliver  DiscountPercent  SaleRecord_last6week  \n",
       "0         30.078073         0.000000              0.000000  \n",
       "1         27.333142         0.000000              0.000000  \n",
       "2         26.532207         0.000000              0.000000  \n",
       "3         30.318096         0.000000              0.000000  \n",
       "4         27.071564        13.216014              0.000000  \n",
       "..              ...              ...                   ...  \n",
       "95        24.236792         0.000000              0.833333  \n",
       "96        29.410897        48.543238              0.666667  \n",
       "97        27.817176         0.000000             10.833333  \n",
       "98        23.327348        49.586504              1.000000  \n",
       "99        31.644610         0.000000              0.666667  \n",
       "\n",
       "[100 rows x 10 columns]"
      ]
     },
     "execution_count": 104,
     "metadata": {},
     "output_type": "execute_result"
    }
   ],
   "source": [
    "mainDf.head(100)"
   ]
  },
  {
   "cell_type": "code",
   "execution_count": 105,
   "metadata": {},
   "outputs": [],
   "source": [
    "X=mainDf.drop(['product_category_name_english','count_perCategory'], axis=1)\n"
   ]
  },
  {
   "cell_type": "code",
   "execution_count": 106,
   "metadata": {},
   "outputs": [],
   "source": [
    "Y=mainDf['count_perCategory']"
   ]
  },
  {
   "cell_type": "code",
   "execution_count": 107,
   "metadata": {},
   "outputs": [],
   "source": [
    "week=np.arange(1, 35, 1).tolist()"
   ]
  },
  {
   "cell_type": "code",
   "execution_count": 108,
   "metadata": {},
   "outputs": [],
   "source": [
    "trainDf= mainDf[mainDf.Week.isin(week)]"
   ]
  },
  {
   "cell_type": "code",
   "execution_count": 109,
   "metadata": {},
   "outputs": [],
   "source": [
    "testDF=mainDf[~mainDf.Week.isin(week)]"
   ]
  },
  {
   "cell_type": "code",
   "execution_count": 110,
   "metadata": {},
   "outputs": [],
   "source": [
    "X_train1=trainDf.drop(['product_category_name_english','count_perCategory'], axis=1)"
   ]
  },
  {
   "cell_type": "code",
   "execution_count": 111,
   "metadata": {},
   "outputs": [],
   "source": [
    "Y_train1=trainDf['count_perCategory']"
   ]
  },
  {
   "cell_type": "code",
   "execution_count": 112,
   "metadata": {},
   "outputs": [],
   "source": [
    "X_test1=testDF.drop(['product_category_name_english','count_perCategory'], axis=1)"
   ]
  },
  {
   "cell_type": "code",
   "execution_count": 113,
   "metadata": {},
   "outputs": [],
   "source": [
    "Y_test1=testDF['count_perCategory']"
   ]
  },
  {
   "cell_type": "code",
   "execution_count": 27,
   "metadata": {},
   "outputs": [
    {
     "name": "stdout",
     "output_type": "stream",
     "text": [
      "Max sale: 389\n",
      "Min sale: 1\n",
      "Avg sale: 43.26004842615012\n",
      "\n",
      "Sales bucket v/s Total percentage:\n"
     ]
    },
    {
     "data": {
      "text/plain": [
       "(0, 50]       74.900990\n",
       "(50, 100]     13.118812\n",
       "(100, 150]     4.752475\n",
       "(200, 250]     3.811881\n",
       "(150, 200]     3.415842\n",
       "Name: sales_bins, dtype: float64"
      ]
     },
     "metadata": {},
     "output_type": "display_data"
    }
   ],
   "source": [
    "def sales_dist(data):\n",
    "    \"\"\"\n",
    "        Sales_dist used for Checing Sales Distribution.\n",
    "        data :  contain data frame which contain sales data\n",
    "    \"\"\"\n",
    "    sales_df = data.copy(deep=True)\n",
    "    sales_df['sales_bins'] = pd.cut(sales_df.count_perCategory, [0, 50, 100, 150, 200, 250])\n",
    "    print('Max sale:', sales_df.count_perCategory.max())\n",
    "    print('Min sale:', sales_df.count_perCategory.min())\n",
    "    print('Avg sale:', sales_df.count_perCategory.mean())\n",
    "    print()\n",
    "    return sales_df\n",
    "\n",
    "sales_df = sales_dist(trainDf)\n",
    "\n",
    "# Total number of data points\n",
    "total_points = pd.value_counts(sales_df.sales_bins).sum()\n",
    "print('Sales bucket v/s Total percentage:')\n",
    "display(pd.value_counts(sales_df.sales_bins).apply(lambda s: (s/total_points)*100))"
   ]
  },
  {
   "cell_type": "code",
   "execution_count": 29,
   "metadata": {},
   "outputs": [
    {
     "data": {
      "image/png": "[encoded data removed]",
      "text/plain": [
       "<Figure size 432x288 with 1 Axes>"
      ]
     },
     "metadata": {
      "needs_background": "light"
     },
     "output_type": "display_data"
    }
   ],
   "source": [
    "# Let us visualize the same\n",
    "sales_count = pd.value_counts(sales_df.sales_bins)\n",
    "sales_count.sort_values(ascending=True).plot(kind='barh', title='Sales distribution', );\n",
    "# sns.countplot(sales_count)"
   ]
  },
  {
   "cell_type": "code",
   "execution_count": 30,
   "metadata": {},
   "outputs": [
    {
     "name": "stdout",
     "output_type": "stream",
     "text": [
      "Max discount: 88.1530169631189\n",
      "Min discount: 0.0\n",
      "Avg discount: 12.121013002824709\n",
      "\n",
      "Discount percentage distribution\n"
     ]
    },
    {
     "data": {
      "text/plain": [
       "(0, 10]      58.380202\n",
       "(10, 20]     14.285714\n",
       "(20, 30]      6.074241\n",
       "(30, 40]      3.543307\n",
       "(60, 70]      3.318335\n",
       "(50, 60]      3.262092\n",
       "(80, 90]      3.149606\n",
       "(90, 100]     2.924634\n",
       "(40, 50]      2.812148\n",
       "(70, 80]      2.249719\n",
       "Name: discount_bins, dtype: float64"
      ]
     },
     "metadata": {},
     "output_type": "display_data"
    }
   ],
   "source": [
    "def discountPercent(data):\n",
    "    \"\"\"\n",
    "        Sales_dist used for Checing Sales Distribution.\n",
    "        data :  contain data frame which contain sales data\n",
    "    \"\"\"\n",
    "    sales_df = data.copy(deep=True)\n",
    "    sales_df['discount_bins'] = pd.cut(sales_df.count_perCategory, [0,10,20,30,40,50,60,70,80,90,100])\n",
    "    print('Max discount:', sales_df.DiscountPercent.max())\n",
    "    print('Min discount:', sales_df.DiscountPercent.min())\n",
    "    print('Avg discount:', sales_df.DiscountPercent.mean())\n",
    "    print()\n",
    "    return sales_df\n",
    "\n",
    "discount_df = discountPercent(trainDf)\n",
    "\n",
    "# Total number of data points\n",
    "total_points = pd.value_counts(discount_df.discount_bins).sum()\n",
    "print('Discount percentage distribution')\n",
    "display(pd.value_counts(discount_df.discount_bins).apply(lambda s: (s/total_points)*100))"
   ]
  },
  {
   "cell_type": "code",
   "execution_count": 31,
   "metadata": {},
   "outputs": [
    {
     "data": {
      "image/png": "[encoded data removed]",
      "text/plain": [
       "<Figure size 432x288 with 1 Axes>"
      ]
     },
     "metadata": {
      "needs_background": "light"
     },
     "output_type": "display_data"
    }
   ],
   "source": [
    "# Let us visualize the same\n",
    "discount = pd.value_counts(discount_df.discount_bins)\n",
    "discount.sort_values(ascending=True).plot(kind='barh', title='Discount distribution', );\n",
    "# sns.countplot(sales_count)"
   ]
  },
  {
   "cell_type": "code",
   "execution_count": 32,
   "metadata": {},
   "outputs": [],
   "source": [
    "avgSalesPerProduct=mainDf[['encodedCategory','count_perCategory']]\n",
    "avgSalesPerProduct=avgSalesPerProduct.groupby(['encodedCategory']).agg({'encodedCategory':'first','count_perCategory':'mean'})"
   ]
  },
  {
   "cell_type": "code",
   "execution_count": 33,
   "metadata": {},
   "outputs": [
    {
     "data": {
      "text/html": [
       "<div>\n",
       "<style scoped>\n",
       "    .dataframe tbody tr th:only-of-type {\n",
       "        vertical-align: middle;\n",
       "    }\n",
       "\n",
       "    .dataframe tbody tr th {\n",
       "        vertical-align: top;\n",
       "    }\n",
       "\n",
       "    .dataframe thead th {\n",
       "        text-align: right;\n",
       "    }\n",
       "</style>\n",
       "<table border=\"1\" class=\"dataframe\">\n",
       "  <thead>\n",
       "    <tr style=\"text-align: right;\">\n",
       "      <th></th>\n",
       "      <th>encodedCategory</th>\n",
       "      <th>count_perCategory</th>\n",
       "    </tr>\n",
       "    <tr>\n",
       "      <th>encodedCategory</th>\n",
       "      <th></th>\n",
       "      <th></th>\n",
       "    </tr>\n",
       "  </thead>\n",
       "  <tbody>\n",
       "    <tr>\n",
       "      <th>0</th>\n",
       "      <td>0</td>\n",
       "      <td>5.142857</td>\n",
       "    </tr>\n",
       "    <tr>\n",
       "      <th>1</th>\n",
       "      <td>1</td>\n",
       "      <td>6.425532</td>\n",
       "    </tr>\n",
       "    <tr>\n",
       "      <th>2</th>\n",
       "      <td>2</td>\n",
       "      <td>4.977273</td>\n",
       "    </tr>\n",
       "    <tr>\n",
       "      <th>3</th>\n",
       "      <td>3</td>\n",
       "      <td>2.666667</td>\n",
       "    </tr>\n",
       "    <tr>\n",
       "      <th>4</th>\n",
       "      <td>4</td>\n",
       "      <td>7.326923</td>\n",
       "    </tr>\n",
       "  </tbody>\n",
       "</table>\n",
       "</div>"
      ],
      "text/plain": [
       "                 encodedCategory  count_perCategory\n",
       "encodedCategory                                    \n",
       "0                              0           5.142857\n",
       "1                              1           6.425532\n",
       "2                              2           4.977273\n",
       "3                              3           2.666667\n",
       "4                              4           7.326923"
      ]
     },
     "execution_count": 33,
     "metadata": {},
     "output_type": "execute_result"
    }
   ],
   "source": [
    "avgSalesPerProduct.head()"
   ]
  },
  {
   "cell_type": "code",
   "execution_count": 48,
   "metadata": {},
   "outputs": [
    {
     "data": {
      "application/vnd.plotly.v1+json": {
       "config": {
        "linkText": "Export to plot.ly",
        "plotlyServerURL": "https://plot.ly",
        "showLink": false
       },
       "data": [
        {
         "marker": {
          "color": [
           5.142857142857143,
           6.425531914893617,
           4.9772727272727275,
           2.6666666666666665,
           7.326923076923077,
           84.61538461538461,
           61.61538461538461,
           230.57692307692307,
           11.3,
           1.9375,
           5.913043478260869,
           1.4,
           3.369565217391304,
           2.3870967741935485,
           5.641025641025641,
           156.75,
           22.923076923076923,
           19.1,
           7.476190476190476,
           4.23404255319149,
           76.90384615384616,
           5.145833333333333,
           3,
           1.56,
           7.8,
           2.1515151515151514,
           54.75,
           1.7857142857142858,
           41.73076923076923,
           1,
           3.2222222222222223,
           5.450980392156863,
           1.4761904761904763,
           3.130434782608696,
           5.913043478260869,
           1.8333333333333333,
           10.115384615384615,
           5.82,
           3,
           169.8653846153846,
           10.431372549019608,
           1.7083333333333333,
           88.26923076923077,
           192.8846153846154,
           16.857142857142858,
           5.530612244897959,
           1.8235294117647058,
           9.372549019607844,
           12.450980392156863,
           141.92307692307693,
           5.913043478260869,
           5.98,
           1.3333333333333333,
           22.365384615384617,
           6.384615384615385,
           1.6666666666666667,
           13.826923076923077,
           34.38461538461539,
           1.7037037037037037,
           69.01923076923077,
           39.03846153846154,
           1,
           4.568181818181818,
           13.557692307692308,
           2.888888888888889,
           173.17307692307693,
           50.48076923076923,
           2.289473684210526,
           90.88461538461539,
           82.32692307692308,
           119.48076923076923
          ],
          "colorscale": [
           [
            0,
            "rgb(0,0,0)"
           ],
           [
            0.25,
            "rgb(230,0,0)"
           ],
           [
            0.5,
            "rgb(230,210,0)"
           ],
           [
            0.75,
            "rgb(255,255,255)"
           ],
           [
            1,
            "rgb(160,200,255)"
           ]
          ],
          "showscale": true
         },
         "type": "bar",
         "x": [
          0,
          1,
          2,
          3,
          4,
          5,
          6,
          7,
          8,
          9,
          10,
          11,
          12,
          13,
          14,
          15,
          16,
          17,
          18,
          19,
          20,
          21,
          22,
          23,
          24,
          25,
          26,
          27,
          28,
          29,
          30,
          31,
          32,
          33,
          34,
          35,
          36,
          37,
          38,
          39,
          40,
          41,
          42,
          43,
          44,
          45,
          46,
          47,
          48,
          49
         ],
         "y": [
          5.142857142857143,
          6.425531914893617,
          4.9772727272727275,
          2.6666666666666665,
          7.326923076923077,
          84.61538461538461,
          61.61538461538461,
          230.57692307692307,
          11.3,
          1.9375,
          5.913043478260869,
          1.4,
          3.369565217391304,
          2.3870967741935485,
          5.641025641025641,
          156.75,
          22.923076923076923,
          19.1,
          7.476190476190476,
          4.23404255319149,
          76.90384615384616,
          5.145833333333333,
          3,
          1.56,
          7.8,
          2.1515151515151514,
          54.75,
          1.7857142857142858,
          41.73076923076923,
          1,
          3.2222222222222223,
          5.450980392156863,
          1.4761904761904763,
          3.130434782608696,
          5.913043478260869,
          1.8333333333333333,
          10.115384615384615,
          5.82,
          3,
          169.8653846153846,
          10.431372549019608,
          1.7083333333333333,
          88.26923076923077,
          192.8846153846154,
          16.857142857142858,
          5.530612244897959,
          1.8235294117647058,
          9.372549019607844,
          12.450980392156863,
          141.92307692307693,
          5.913043478260869,
          5.98,
          1.3333333333333333,
          22.365384615384617,
          6.384615384615385,
          1.6666666666666667,
          13.826923076923077,
          34.38461538461539,
          1.7037037037037037,
          69.01923076923077,
          39.03846153846154,
          1,
          4.568181818181818,
          13.557692307692308,
          2.888888888888889,
          173.17307692307693,
          50.48076923076923,
          2.289473684210526,
          90.88461538461539,
          82.32692307692308,
          119.48076923076923
         ]
        }
       ],
       "layout": {
        "autosize": true,
        "hovermode": "closest",
        "showlegend": false,
        "template": {
         "data": {
          "bar": [
           {
            "error_x": {
             "color": "#2a3f5f"
            },
            "error_y": {
             "color": "#2a3f5f"
            },
            "marker": {
             "line": {
              "color": "#E5ECF6",
              "width": 0.5
             }
            },
            "type": "bar"
           }
          ],
          "barpolar": [
           {
            "marker": {
             "line": {
              "color": "#E5ECF6",
              "width": 0.5
             }
            },
            "type": "barpolar"
           }
          ],
          "carpet": [
           {
            "aaxis": {
             "endlinecolor": "#2a3f5f",
             "gridcolor": "white",
             "linecolor": "white",
             "minorgridcolor": "white",
             "startlinecolor": "#2a3f5f"
            },
            "baxis": {
             "endlinecolor": "#2a3f5f",
             "gridcolor": "white",
             "linecolor": "white",
             "minorgridcolor": "white",
             "startlinecolor": "#2a3f5f"
            },
            "type": "carpet"
           }
          ],
          "choropleth": [
           {
            "colorbar": {
             "outlinewidth": 0,
             "ticks": ""
            },
            "type": "choropleth"
           }
          ],
          "contour": [
           {
            "colorbar": {
             "outlinewidth": 0,
             "ticks": ""
            },
            "colorscale": [
             [
              0,
              "#0d0887"
             ],
             [
              0.1111111111111111,
              "#46039f"
             ],
             [
              0.2222222222222222,
              "#7201a8"
             ],
             [
              0.3333333333333333,
              "#9c179e"
             ],
             [
              0.4444444444444444,
              "#bd3786"
             ],
             [
              0.5555555555555556,
              "#d8576b"
             ],
             [
              0.6666666666666666,
              "#ed7953"
             ],
             [
              0.7777777777777778,
              "#fb9f3a"
             ],
             [
              0.8888888888888888,
              "#fdca26"
             ],
             [
              1,
              "#f0f921"
             ]
            ],
            "type": "contour"
           }
          ],
          "contourcarpet": [
           {
            "colorbar": {
             "outlinewidth": 0,
             "ticks": ""
            },
            "type": "contourcarpet"
           }
          ],
          "heatmap": [
           {
            "colorbar": {
             "outlinewidth": 0,
             "ticks": ""
            },
            "colorscale": [
             [
              0,
              "#0d0887"
             ],
             [
              0.1111111111111111,
              "#46039f"
             ],
             [
              0.2222222222222222,
              "#7201a8"
             ],
             [
              0.3333333333333333,
              "#9c179e"
             ],
             [
              0.4444444444444444,
              "#bd3786"
             ],
             [
              0.5555555555555556,
              "#d8576b"
             ],
             [
              0.6666666666666666,
              "#ed7953"
             ],
             [
              0.7777777777777778,
              "#fb9f3a"
             ],
             [
              0.8888888888888888,
              "#fdca26"
             ],
             [
              1,
              "#f0f921"
             ]
            ],
            "type": "heatmap"
           }
          ],
          "heatmapgl": [
           {
            "colorbar": {
             "outlinewidth": 0,
             "ticks": ""
            },
            "colorscale": [
             [
              0,
              "#0d0887"
             ],
             [
              0.1111111111111111,
              "#46039f"
             ],
             [
              0.2222222222222222,
              "#7201a8"
             ],
             [
              0.3333333333333333,
              "#9c179e"
             ],
             [
              0.4444444444444444,
              "#bd3786"
             ],
             [
              0.5555555555555556,
              "#d8576b"
             ],
             [
              0.6666666666666666,
              "#ed7953"
             ],
             [
              0.7777777777777778,
              "#fb9f3a"
             ],
             [
              0.8888888888888888,
              "#fdca26"
             ],
             [
              1,
              "#f0f921"
             ]
            ],
            "type": "heatmapgl"
           }
          ],
          "histogram": [
           {
            "marker": {
             "colorbar": {
              "outlinewidth": 0,
              "ticks": ""
             }
            },
            "type": "histogram"
           }
          ],
          "histogram2d": [
           {
            "colorbar": {
             "outlinewidth": 0,
             "ticks": ""
            },
            "colorscale": [
             [
              0,
              "#0d0887"
             ],
             [
              0.1111111111111111,
              "#46039f"
             ],
             [
              0.2222222222222222,
              "#7201a8"
             ],
             [
              0.3333333333333333,
              "#9c179e"
             ],
             [
              0.4444444444444444,
              "#bd3786"
             ],
             [
              0.5555555555555556,
              "#d8576b"
             ],
             [
              0.6666666666666666,
              "#ed7953"
             ],
             [
              0.7777777777777778,
              "#fb9f3a"
             ],
             [
              0.8888888888888888,
              "#fdca26"
             ],
             [
              1,
              "#f0f921"
             ]
            ],
            "type": "histogram2d"
           }
          ],
          "histogram2dcontour": [
           {
            "colorbar": {
             "outlinewidth": 0,
             "ticks": ""
            },
            "colorscale": [
             [
              0,
              "#0d0887"
             ],
             [
              0.1111111111111111,
              "#46039f"
             ],
             [
              0.2222222222222222,
              "#7201a8"
             ],
             [
              0.3333333333333333,
              "#9c179e"
             ],
             [
              0.4444444444444444,
              "#bd3786"
             ],
             [
              0.5555555555555556,
              "#d8576b"
             ],
             [
              0.6666666666666666,
              "#ed7953"
             ],
             [
              0.7777777777777778,
              "#fb9f3a"
             ],
             [
              0.8888888888888888,
              "#fdca26"
             ],
             [
              1,
              "#f0f921"
             ]
            ],
            "type": "histogram2dcontour"
           }
          ],
          "mesh3d": [
           {
            "colorbar": {
             "outlinewidth": 0,
             "ticks": ""
            },
            "type": "mesh3d"
           }
          ],
          "parcoords": [
           {
            "line": {
             "colorbar": {
              "outlinewidth": 0,
              "ticks": ""
             }
            },
            "type": "parcoords"
           }
          ],
          "pie": [
           {
            "automargin": true,
            "type": "pie"
           }
          ],
          "scatter": [
           {
            "marker": {
             "colorbar": {
              "outlinewidth": 0,
              "ticks": ""
             }
            },
            "type": "scatter"
           }
          ],
          "scatter3d": [
           {
            "line": {
             "colorbar": {
              "outlinewidth": 0,
              "ticks": ""
             }
            },
            "marker": {
             "colorbar": {
              "outlinewidth": 0,
              "ticks": ""
             }
            },
            "type": "scatter3d"
           }
          ],
          "scattercarpet": [
           {
            "marker": {
             "colorbar": {
              "outlinewidth": 0,
              "ticks": ""
             }
            },
            "type": "scattercarpet"
           }
          ],
          "scattergeo": [
           {
            "marker": {
             "colorbar": {
              "outlinewidth": 0,
              "ticks": ""
             }
            },
            "type": "scattergeo"
           }
          ],
          "scattergl": [
           {
            "marker": {
             "colorbar": {
              "outlinewidth": 0,
              "ticks": ""
             }
            },
            "type": "scattergl"
           }
          ],
          "scattermapbox": [
           {
            "marker": {
             "colorbar": {
              "outlinewidth": 0,
              "ticks": ""
             }
            },
            "type": "scattermapbox"
           }
          ],
          "scatterpolar": [
           {
            "marker": {
             "colorbar": {
              "outlinewidth": 0,
              "ticks": ""
             }
            },
            "type": "scatterpolar"
           }
          ],
          "scatterpolargl": [
           {
            "marker": {
             "colorbar": {
              "outlinewidth": 0,
              "ticks": ""
             }
            },
            "type": "scatterpolargl"
           }
          ],
          "scatterternary": [
           {
            "marker": {
             "colorbar": {
              "outlinewidth": 0,
              "ticks": ""
             }
            },
            "type": "scatterternary"
           }
          ],
          "surface": [
           {
            "colorbar": {
             "outlinewidth": 0,
             "ticks": ""
            },
            "colorscale": [
             [
              0,
              "#0d0887"
             ],
             [
              0.1111111111111111,
              "#46039f"
             ],
             [
              0.2222222222222222,
              "#7201a8"
             ],
             [
              0.3333333333333333,
              "#9c179e"
             ],
             [
              0.4444444444444444,
              "#bd3786"
             ],
             [
              0.5555555555555556,
              "#d8576b"
             ],
             [
              0.6666666666666666,
              "#ed7953"
             ],
             [
              0.7777777777777778,
              "#fb9f3a"
             ],
             [
              0.8888888888888888,
              "#fdca26"
             ],
             [
              1,
              "#f0f921"
             ]
            ],
            "type": "surface"
           }
          ],
          "table": [
           {
            "cells": {
             "fill": {
              "color": "#EBF0F8"
             },
             "line": {
              "color": "white"
             }
            },
            "header": {
             "fill": {
              "color": "#C8D4E3"
             },
             "line": {
              "color": "white"
             }
            },
            "type": "table"
           }
          ]
         },
         "layout": {
          "annotationdefaults": {
           "arrowcolor": "#2a3f5f",
           "arrowhead": 0,
           "arrowwidth": 1
          },
          "coloraxis": {
           "colorbar": {
            "outlinewidth": 0,
            "ticks": ""
           }
          },
          "colorscale": {
           "diverging": [
            [
             0,
             "#8e0152"
            ],
            [
             0.1,
             "#c51b7d"
            ],
            [
             0.2,
             "#de77ae"
            ],
            [
             0.3,
             "#f1b6da"
            ],
            [
             0.4,
             "#fde0ef"
            ],
            [
             0.5,
             "#f7f7f7"
            ],
            [
             0.6,
             "#e6f5d0"
            ],
            [
             0.7,
             "#b8e186"
            ],
            [
             0.8,
             "#7fbc41"
            ],
            [
             0.9,
             "#4d9221"
            ],
            [
             1,
             "#276419"
            ]
           ],
           "sequential": [
            [
             0,
             "#0d0887"
            ],
            [
             0.1111111111111111,
             "#46039f"
            ],
            [
             0.2222222222222222,
             "#7201a8"
            ],
            [
             0.3333333333333333,
             "#9c179e"
            ],
            [
             0.4444444444444444,
             "#bd3786"
            ],
            [
             0.5555555555555556,
             "#d8576b"
            ],
            [
             0.6666666666666666,
             "#ed7953"
            ],
            [
             0.7777777777777778,
             "#fb9f3a"
            ],
            [
             0.8888888888888888,
             "#fdca26"
            ],
            [
             1,
             "#f0f921"
            ]
           ],
           "sequentialminus": [
            [
             0,
             "#0d0887"
            ],
            [
             0.1111111111111111,
             "#46039f"
            ],
            [
             0.2222222222222222,
             "#7201a8"
            ],
            [
             0.3333333333333333,
             "#9c179e"
            ],
            [
             0.4444444444444444,
             "#bd3786"
            ],
            [
             0.5555555555555556,
             "#d8576b"
            ],
            [
             0.6666666666666666,
             "#ed7953"
            ],
            [
             0.7777777777777778,
             "#fb9f3a"
            ],
            [
             0.8888888888888888,
             "#fdca26"
            ],
            [
             1,
             "#f0f921"
            ]
           ]
          },
          "colorway": [
           "#636efa",
           "#EF553B",
           "#00cc96",
           "#ab63fa",
           "#FFA15A",
           "#19d3f3",
           "#FF6692",
           "#B6E880",
           "#FF97FF",
           "#FECB52"
          ],
          "font": {
           "color": "#2a3f5f"
          },
          "geo": {
           "bgcolor": "white",
           "lakecolor": "white",
           "landcolor": "#E5ECF6",
           "showlakes": true,
           "showland": true,
           "subunitcolor": "white"
          },
          "hoverlabel": {
           "align": "left"
          },
          "hovermode": "closest",
          "mapbox": {
           "style": "light"
          },
          "paper_bgcolor": "white",
          "plot_bgcolor": "#E5ECF6",
          "polar": {
           "angularaxis": {
            "gridcolor": "white",
            "linecolor": "white",
            "ticks": ""
           },
           "bgcolor": "#E5ECF6",
           "radialaxis": {
            "gridcolor": "white",
            "linecolor": "white",
            "ticks": ""
           }
          },
          "scene": {
           "xaxis": {
            "backgroundcolor": "#E5ECF6",
            "gridcolor": "white",
            "gridwidth": 2,
            "linecolor": "white",
            "showbackground": true,
            "ticks": "",
            "zerolinecolor": "white"
           },
           "yaxis": {
            "backgroundcolor": "#E5ECF6",
            "gridcolor": "white",
            "gridwidth": 2,
            "linecolor": "white",
            "showbackground": true,
            "ticks": "",
            "zerolinecolor": "white"
           },
           "zaxis": {
            "backgroundcolor": "#E5ECF6",
            "gridcolor": "white",
            "gridwidth": 2,
            "linecolor": "white",
            "showbackground": true,
            "ticks": "",
            "zerolinecolor": "white"
           }
          },
          "shapedefaults": {
           "line": {
            "color": "#2a3f5f"
           }
          },
          "ternary": {
           "aaxis": {
            "gridcolor": "white",
            "linecolor": "white",
            "ticks": ""
           },
           "baxis": {
            "gridcolor": "white",
            "linecolor": "white",
            "ticks": ""
           },
           "bgcolor": "#E5ECF6",
           "caxis": {
            "gridcolor": "white",
            "linecolor": "white",
            "ticks": ""
           }
          },
          "title": {
           "x": 0.05
          },
          "xaxis": {
           "automargin": true,
           "gridcolor": "white",
           "linecolor": "white",
           "ticks": "",
           "title": {
            "standoff": 15
           },
           "zerolinecolor": "white",
           "zerolinewidth": 2
          },
          "yaxis": {
           "automargin": true,
           "gridcolor": "white",
           "linecolor": "white",
           "ticks": "",
           "title": {
            "standoff": 15
           },
           "zerolinecolor": "white",
           "zerolinewidth": 2
          }
         }
        },
        "title": {
         "text": "Scatter plot of avg sales per item"
        },
        "xaxis": {
         "gridwidth": 1,
         "ticklen": 1,
         "title": {
          "text": "Items"
         },
         "zeroline": false
        },
        "yaxis": {
         "gridwidth": 1,
         "ticklen": 1,
         "title": {
          "text": "Avg Sales"
         },
         "zeroline": false
        }
       }
      },
      "text/html": [
       "<div>                            <div id=\"7fdce82b-a63a-4fa7-abc5-d296f486312e\" class=\"plotly-graph-div\" style=\"height:525px; width:100%;\"></div>            <script type=\"text/javascript\">                require([\"plotly\"], function(Plotly) {                    window.PLOTLYENV=window.PLOTLYENV || {};                                    if (document.getElementById(\"7fdce82b-a63a-4fa7-abc5-d296f486312e\")) {                    Plotly.newPlot(                        \"7fdce82b-a63a-4fa7-abc5-d296f486312e\",                        [{\"marker\": {\"color\": [5.142857142857143, 6.425531914893617, 4.9772727272727275, 2.6666666666666665, 7.326923076923077, 84.61538461538461, 61.61538461538461, 230.57692307692307, 11.3, 1.9375, 5.913043478260869, 1.4, 3.369565217391304, 2.3870967741935485, 5.641025641025641, 156.75, 22.923076923076923, 19.1, 7.476190476190476, 4.23404255319149, 76.90384615384616, 5.145833333333333, 3.0, 1.56, 7.8, 2.1515151515151514, 54.75, 1.7857142857142858, 41.73076923076923, 1.0, 3.2222222222222223, 5.450980392156863, 1.4761904761904763, 3.130434782608696, 5.913043478260869, 1.8333333333333333, 10.115384615384615, 5.82, 3.0, 169.8653846153846, 10.431372549019608, 1.7083333333333333, 88.26923076923077, 192.8846153846154, 16.857142857142858, 5.530612244897959, 1.8235294117647058, 9.372549019607844, 12.450980392156863, 141.92307692307693, 5.913043478260869, 5.98, 1.3333333333333333, 22.365384615384617, 6.384615384615385, 1.6666666666666667, 13.826923076923077, 34.38461538461539, 1.7037037037037037, 69.01923076923077, 39.03846153846154, 1.0, 4.568181818181818, 13.557692307692308, 2.888888888888889, 173.17307692307693, 50.48076923076923, 2.289473684210526, 90.88461538461539, 82.32692307692308, 119.48076923076923], \"colorscale\": [[0.0, \"rgb(0,0,0)\"], [0.25, \"rgb(230,0,0)\"], [0.5, \"rgb(230,210,0)\"], [0.75, \"rgb(255,255,255)\"], [1.0, \"rgb(160,200,255)\"]], \"showscale\": true}, \"type\": \"bar\", \"x\": [0, 1, 2, 3, 4, 5, 6, 7, 8, 9, 10, 11, 12, 13, 14, 15, 16, 17, 18, 19, 20, 21, 22, 23, 24, 25, 26, 27, 28, 29, 30, 31, 32, 33, 34, 35, 36, 37, 38, 39, 40, 41, 42, 43, 44, 45, 46, 47, 48, 49], \"y\": [5.142857142857143, 6.425531914893617, 4.9772727272727275, 2.6666666666666665, 7.326923076923077, 84.61538461538461, 61.61538461538461, 230.57692307692307, 11.3, 1.9375, 5.913043478260869, 1.4, 3.369565217391304, 2.3870967741935485, 5.641025641025641, 156.75, 22.923076923076923, 19.1, 7.476190476190476, 4.23404255319149, 76.90384615384616, 5.145833333333333, 3.0, 1.56, 7.8, 2.1515151515151514, 54.75, 1.7857142857142858, 41.73076923076923, 1.0, 3.2222222222222223, 5.450980392156863, 1.4761904761904763, 3.130434782608696, 5.913043478260869, 1.8333333333333333, 10.115384615384615, 5.82, 3.0, 169.8653846153846, 10.431372549019608, 1.7083333333333333, 88.26923076923077, 192.8846153846154, 16.857142857142858, 5.530612244897959, 1.8235294117647058, 9.372549019607844, 12.450980392156863, 141.92307692307693, 5.913043478260869, 5.98, 1.3333333333333333, 22.365384615384617, 6.384615384615385, 1.6666666666666667, 13.826923076923077, 34.38461538461539, 1.7037037037037037, 69.01923076923077, 39.03846153846154, 1.0, 4.568181818181818, 13.557692307692308, 2.888888888888889, 173.17307692307693, 50.48076923076923, 2.289473684210526, 90.88461538461539, 82.32692307692308, 119.48076923076923]}],                        {\"autosize\": true, \"hovermode\": \"closest\", \"showlegend\": false, \"template\": {\"data\": {\"bar\": [{\"error_x\": {\"color\": \"#2a3f5f\"}, \"error_y\": {\"color\": \"#2a3f5f\"}, \"marker\": {\"line\": {\"color\": \"#E5ECF6\", \"width\": 0.5}}, \"type\": \"bar\"}], \"barpolar\": [{\"marker\": {\"line\": {\"color\": \"#E5ECF6\", \"width\": 0.5}}, \"type\": \"barpolar\"}], \"carpet\": [{\"aaxis\": {\"endlinecolor\": \"#2a3f5f\", \"gridcolor\": \"white\", \"linecolor\": \"white\", \"minorgridcolor\": \"white\", \"startlinecolor\": \"#2a3f5f\"}, \"baxis\": {\"endlinecolor\": \"#2a3f5f\", \"gridcolor\": \"white\", \"linecolor\": \"white\", \"minorgridcolor\": \"white\", \"startlinecolor\": \"#2a3f5f\"}, \"type\": \"carpet\"}], \"choropleth\": [{\"colorbar\": {\"outlinewidth\": 0, \"ticks\": \"\"}, \"type\": \"choropleth\"}], \"contour\": [{\"colorbar\": {\"outlinewidth\": 0, \"ticks\": \"\"}, \"colorscale\": [[0.0, \"#0d0887\"], [0.1111111111111111, \"#46039f\"], [0.2222222222222222, \"#7201a8\"], [0.3333333333333333, \"#9c179e\"], [0.4444444444444444, \"#bd3786\"], [0.5555555555555556, \"#d8576b\"], [0.6666666666666666, \"#ed7953\"], [0.7777777777777778, \"#fb9f3a\"], [0.8888888888888888, \"#fdca26\"], [1.0, \"#f0f921\"]], \"type\": \"contour\"}], \"contourcarpet\": [{\"colorbar\": {\"outlinewidth\": 0, \"ticks\": \"\"}, \"type\": \"contourcarpet\"}], \"heatmap\": [{\"colorbar\": {\"outlinewidth\": 0, \"ticks\": \"\"}, \"colorscale\": [[0.0, \"#0d0887\"], [0.1111111111111111, \"#46039f\"], [0.2222222222222222, \"#7201a8\"], [0.3333333333333333, \"#9c179e\"], [0.4444444444444444, \"#bd3786\"], [0.5555555555555556, \"#d8576b\"], [0.6666666666666666, \"#ed7953\"], [0.7777777777777778, \"#fb9f3a\"], [0.8888888888888888, \"#fdca26\"], [1.0, \"#f0f921\"]], \"type\": \"heatmap\"}], \"heatmapgl\": [{\"colorbar\": {\"outlinewidth\": 0, \"ticks\": \"\"}, \"colorscale\": [[0.0, \"#0d0887\"], [0.1111111111111111, \"#46039f\"], [0.2222222222222222, \"#7201a8\"], [0.3333333333333333, \"#9c179e\"], [0.4444444444444444, \"#bd3786\"], [0.5555555555555556, \"#d8576b\"], [0.6666666666666666, \"#ed7953\"], [0.7777777777777778, \"#fb9f3a\"], [0.8888888888888888, \"#fdca26\"], [1.0, \"#f0f921\"]], \"type\": \"heatmapgl\"}], \"histogram\": [{\"marker\": {\"colorbar\": {\"outlinewidth\": 0, \"ticks\": \"\"}}, \"type\": \"histogram\"}], \"histogram2d\": [{\"colorbar\": {\"outlinewidth\": 0, \"ticks\": \"\"}, \"colorscale\": [[0.0, \"#0d0887\"], [0.1111111111111111, \"#46039f\"], [0.2222222222222222, \"#7201a8\"], [0.3333333333333333, \"#9c179e\"], [0.4444444444444444, \"#bd3786\"], [0.5555555555555556, \"#d8576b\"], [0.6666666666666666, \"#ed7953\"], [0.7777777777777778, \"#fb9f3a\"], [0.8888888888888888, \"#fdca26\"], [1.0, \"#f0f921\"]], \"type\": \"histogram2d\"}], \"histogram2dcontour\": [{\"colorbar\": {\"outlinewidth\": 0, \"ticks\": \"\"}, \"colorscale\": [[0.0, \"#0d0887\"], [0.1111111111111111, \"#46039f\"], [0.2222222222222222, \"#7201a8\"], [0.3333333333333333, \"#9c179e\"], [0.4444444444444444, \"#bd3786\"], [0.5555555555555556, \"#d8576b\"], [0.6666666666666666, \"#ed7953\"], [0.7777777777777778, \"#fb9f3a\"], [0.8888888888888888, \"#fdca26\"], [1.0, \"#f0f921\"]], \"type\": \"histogram2dcontour\"}], \"mesh3d\": [{\"colorbar\": {\"outlinewidth\": 0, \"ticks\": \"\"}, \"type\": \"mesh3d\"}], \"parcoords\": [{\"line\": {\"colorbar\": {\"outlinewidth\": 0, \"ticks\": \"\"}}, \"type\": \"parcoords\"}], \"pie\": [{\"automargin\": true, \"type\": \"pie\"}], \"scatter\": [{\"marker\": {\"colorbar\": {\"outlinewidth\": 0, \"ticks\": \"\"}}, \"type\": \"scatter\"}], \"scatter3d\": [{\"line\": {\"colorbar\": {\"outlinewidth\": 0, \"ticks\": \"\"}}, \"marker\": {\"colorbar\": {\"outlinewidth\": 0, \"ticks\": \"\"}}, \"type\": \"scatter3d\"}], \"scattercarpet\": [{\"marker\": {\"colorbar\": {\"outlinewidth\": 0, \"ticks\": \"\"}}, \"type\": \"scattercarpet\"}], \"scattergeo\": [{\"marker\": {\"colorbar\": {\"outlinewidth\": 0, \"ticks\": \"\"}}, \"type\": \"scattergeo\"}], \"scattergl\": [{\"marker\": {\"colorbar\": {\"outlinewidth\": 0, \"ticks\": \"\"}}, \"type\": \"scattergl\"}], \"scattermapbox\": [{\"marker\": {\"colorbar\": {\"outlinewidth\": 0, \"ticks\": \"\"}}, \"type\": \"scattermapbox\"}], \"scatterpolar\": [{\"marker\": {\"colorbar\": {\"outlinewidth\": 0, \"ticks\": \"\"}}, \"type\": \"scatterpolar\"}], \"scatterpolargl\": [{\"marker\": {\"colorbar\": {\"outlinewidth\": 0, \"ticks\": \"\"}}, \"type\": \"scatterpolargl\"}], \"scatterternary\": [{\"marker\": {\"colorbar\": {\"outlinewidth\": 0, \"ticks\": \"\"}}, \"type\": \"scatterternary\"}], \"surface\": [{\"colorbar\": {\"outlinewidth\": 0, \"ticks\": \"\"}, \"colorscale\": [[0.0, \"#0d0887\"], [0.1111111111111111, \"#46039f\"], [0.2222222222222222, \"#7201a8\"], [0.3333333333333333, \"#9c179e\"], [0.4444444444444444, \"#bd3786\"], [0.5555555555555556, \"#d8576b\"], [0.6666666666666666, \"#ed7953\"], [0.7777777777777778, \"#fb9f3a\"], [0.8888888888888888, \"#fdca26\"], [1.0, \"#f0f921\"]], \"type\": \"surface\"}], \"table\": [{\"cells\": {\"fill\": {\"color\": \"#EBF0F8\"}, \"line\": {\"color\": \"white\"}}, \"header\": {\"fill\": {\"color\": \"#C8D4E3\"}, \"line\": {\"color\": \"white\"}}, \"type\": \"table\"}]}, \"layout\": {\"annotationdefaults\": {\"arrowcolor\": \"#2a3f5f\", \"arrowhead\": 0, \"arrowwidth\": 1}, \"coloraxis\": {\"colorbar\": {\"outlinewidth\": 0, \"ticks\": \"\"}}, \"colorscale\": {\"diverging\": [[0, \"#8e0152\"], [0.1, \"#c51b7d\"], [0.2, \"#de77ae\"], [0.3, \"#f1b6da\"], [0.4, \"#fde0ef\"], [0.5, \"#f7f7f7\"], [0.6, \"#e6f5d0\"], [0.7, \"#b8e186\"], [0.8, \"#7fbc41\"], [0.9, \"#4d9221\"], [1, \"#276419\"]], \"sequential\": [[0.0, \"#0d0887\"], [0.1111111111111111, \"#46039f\"], [0.2222222222222222, \"#7201a8\"], [0.3333333333333333, \"#9c179e\"], [0.4444444444444444, \"#bd3786\"], [0.5555555555555556, \"#d8576b\"], [0.6666666666666666, \"#ed7953\"], [0.7777777777777778, \"#fb9f3a\"], [0.8888888888888888, \"#fdca26\"], [1.0, \"#f0f921\"]], \"sequentialminus\": [[0.0, \"#0d0887\"], [0.1111111111111111, \"#46039f\"], [0.2222222222222222, \"#7201a8\"], [0.3333333333333333, \"#9c179e\"], [0.4444444444444444, \"#bd3786\"], [0.5555555555555556, \"#d8576b\"], [0.6666666666666666, \"#ed7953\"], [0.7777777777777778, \"#fb9f3a\"], [0.8888888888888888, \"#fdca26\"], [1.0, \"#f0f921\"]]}, \"colorway\": [\"#636efa\", \"#EF553B\", \"#00cc96\", \"#ab63fa\", \"#FFA15A\", \"#19d3f3\", \"#FF6692\", \"#B6E880\", \"#FF97FF\", \"#FECB52\"], \"font\": {\"color\": \"#2a3f5f\"}, \"geo\": {\"bgcolor\": \"white\", \"lakecolor\": \"white\", \"landcolor\": \"#E5ECF6\", \"showlakes\": true, \"showland\": true, \"subunitcolor\": \"white\"}, \"hoverlabel\": {\"align\": \"left\"}, \"hovermode\": \"closest\", \"mapbox\": {\"style\": \"light\"}, \"paper_bgcolor\": \"white\", \"plot_bgcolor\": \"#E5ECF6\", \"polar\": {\"angularaxis\": {\"gridcolor\": \"white\", \"linecolor\": \"white\", \"ticks\": \"\"}, \"bgcolor\": \"#E5ECF6\", \"radialaxis\": {\"gridcolor\": \"white\", \"linecolor\": \"white\", \"ticks\": \"\"}}, \"scene\": {\"xaxis\": {\"backgroundcolor\": \"#E5ECF6\", \"gridcolor\": \"white\", \"gridwidth\": 2, \"linecolor\": \"white\", \"showbackground\": true, \"ticks\": \"\", \"zerolinecolor\": \"white\"}, \"yaxis\": {\"backgroundcolor\": \"#E5ECF6\", \"gridcolor\": \"white\", \"gridwidth\": 2, \"linecolor\": \"white\", \"showbackground\": true, \"ticks\": \"\", \"zerolinecolor\": \"white\"}, \"zaxis\": {\"backgroundcolor\": \"#E5ECF6\", \"gridcolor\": \"white\", \"gridwidth\": 2, \"linecolor\": \"white\", \"showbackground\": true, \"ticks\": \"\", \"zerolinecolor\": \"white\"}}, \"shapedefaults\": {\"line\": {\"color\": \"#2a3f5f\"}}, \"ternary\": {\"aaxis\": {\"gridcolor\": \"white\", \"linecolor\": \"white\", \"ticks\": \"\"}, \"baxis\": {\"gridcolor\": \"white\", \"linecolor\": \"white\", \"ticks\": \"\"}, \"bgcolor\": \"#E5ECF6\", \"caxis\": {\"gridcolor\": \"white\", \"linecolor\": \"white\", \"ticks\": \"\"}}, \"title\": {\"x\": 0.05}, \"xaxis\": {\"automargin\": true, \"gridcolor\": \"white\", \"linecolor\": \"white\", \"ticks\": \"\", \"title\": {\"standoff\": 15}, \"zerolinecolor\": \"white\", \"zerolinewidth\": 2}, \"yaxis\": {\"automargin\": true, \"gridcolor\": \"white\", \"linecolor\": \"white\", \"ticks\": \"\", \"title\": {\"standoff\": 15}, \"zerolinecolor\": \"white\", \"zerolinewidth\": 2}}}, \"title\": {\"text\": \"Scatter plot of avg sales per item\"}, \"xaxis\": {\"gridwidth\": 1, \"ticklen\": 1, \"title\": {\"text\": \"Items\"}, \"zeroline\": false}, \"yaxis\": {\"gridwidth\": 1, \"ticklen\": 1, \"title\": {\"text\": \"Avg Sales\"}, \"zeroline\": false}},                        {\"responsive\": true}                    ).then(function(){\n",
       "                            \n",
       "var gd = document.getElementById('7fdce82b-a63a-4fa7-abc5-d296f486312e');\n",
       "var x = new MutationObserver(function (mutations, observer) {{\n",
       "        var display = window.getComputedStyle(gd).display;\n",
       "        if (!display || display === 'none') {{\n",
       "            console.log([gd, 'removed!']);\n",
       "            Plotly.purge(gd);\n",
       "            observer.disconnect();\n",
       "        }}\n",
       "}});\n",
       "\n",
       "// Listen for the removal of the full notebook cells\n",
       "var notebookContainer = gd.closest('#notebook-container');\n",
       "if (notebookContainer) {{\n",
       "    x.observe(notebookContainer, {childList: true});\n",
       "}}\n",
       "\n",
       "// Listen for the clearing of the current output cell\n",
       "var outputEl = gd.closest('.output');\n",
       "if (outputEl) {{\n",
       "    x.observe(outputEl, {childList: true});\n",
       "}}\n",
       "\n",
       "                        })                };                });            </script>        </div>"
      ]
     },
     "metadata": {},
     "output_type": "display_data"
    }
   ],
   "source": [
    "\n",
    "avg_sales_per_item_across_stores_sorted = avgSalesPerProduct.count_perCategory.values\n",
    "# Scatter plot of average sales per item\n",
    "sales_item_data = go.Bar(\n",
    "    x=[i for i in range(0, 50)],\n",
    "    y=avg_sales_per_item_across_stores_sorted,\n",
    "    marker=dict(\n",
    "        color=avg_sales_per_item_across_stores_sorted,\n",
    "        colorscale='Blackbody',\n",
    "        showscale=True\n",
    "    ),\n",
    "    #text = avg_sales_per_item_across_stores_df.item.values\n",
    ")\n",
    "data = [sales_item_data]\n",
    "\n",
    "sales_item_layout = go.Layout(\n",
    "    autosize= True,\n",
    "    title= 'Scatter plot of avg sales per item',\n",
    "    hovermode= 'closest',\n",
    "    xaxis= dict(\n",
    "        title= 'Items',\n",
    "        ticklen= 1,\n",
    "        zeroline= False,\n",
    "        gridwidth= 1,\n",
    "    ),\n",
    "    yaxis=dict(\n",
    "        title= 'Avg Sales',\n",
    "        ticklen= 1,\n",
    "        zeroline= False,\n",
    "        gridwidth= 1,\n",
    "    ),\n",
    "    showlegend= False\n",
    ")\n",
    "fig = go.Figure(data=data, layout=sales_item_layout)\n",
    "py.iplot(fig,filename='scatter_sales_item')"
   ]
  },
  {
   "cell_type": "markdown",
   "metadata": {},
   "source": [
    "The distribution of sales is not uniform across the items available  "
   ]
  },
  {
   "cell_type": "markdown",
   "metadata": {},
   "source": [
    "Time series distribution of sales "
   ]
  },
  {
   "cell_type": "code",
   "execution_count": 35,
   "metadata": {},
   "outputs": [],
   "source": [
    "timeDf=mainDf[['Week','count_perCategory']]\n",
    "timeDf=timeDf.groupby(['Week']).agg({'count_perCategory':'sum'})\n",
    "timeDf.columns = ['sales_per_week']\n",
    "timeDf=timeDf.reset_index(level=['Week'])"
   ]
  },
  {
   "cell_type": "code",
   "execution_count": 36,
   "metadata": {},
   "outputs": [
    {
     "data": {
      "text/html": [
       "<div>\n",
       "<style scoped>\n",
       "    .dataframe tbody tr th:only-of-type {\n",
       "        vertical-align: middle;\n",
       "    }\n",
       "\n",
       "    .dataframe tbody tr th {\n",
       "        vertical-align: top;\n",
       "    }\n",
       "\n",
       "    .dataframe thead th {\n",
       "        text-align: right;\n",
       "    }\n",
       "</style>\n",
       "<table border=\"1\" class=\"dataframe\">\n",
       "  <thead>\n",
       "    <tr style=\"text-align: right;\">\n",
       "      <th></th>\n",
       "      <th>Week</th>\n",
       "      <th>sales_per_week</th>\n",
       "    </tr>\n",
       "  </thead>\n",
       "  <tbody>\n",
       "    <tr>\n",
       "      <th>0</th>\n",
       "      <td>1</td>\n",
       "      <td>1652</td>\n",
       "    </tr>\n",
       "    <tr>\n",
       "      <th>1</th>\n",
       "      <td>2</td>\n",
       "      <td>2147</td>\n",
       "    </tr>\n",
       "    <tr>\n",
       "      <th>2</th>\n",
       "      <td>3</td>\n",
       "      <td>2218</td>\n",
       "    </tr>\n",
       "    <tr>\n",
       "      <th>3</th>\n",
       "      <td>4</td>\n",
       "      <td>2310</td>\n",
       "    </tr>\n",
       "    <tr>\n",
       "      <th>4</th>\n",
       "      <td>5</td>\n",
       "      <td>2410</td>\n",
       "    </tr>\n",
       "  </tbody>\n",
       "</table>\n",
       "</div>"
      ],
      "text/plain": [
       "   Week  sales_per_week\n",
       "0     1            1652\n",
       "1     2            2147\n",
       "2     3            2218\n",
       "3     4            2310\n",
       "4     5            2410"
      ]
     },
     "execution_count": 36,
     "metadata": {},
     "output_type": "execute_result"
    }
   ],
   "source": [
    "timeDf.head()"
   ]
  },
  {
   "cell_type": "code",
   "execution_count": 37,
   "metadata": {},
   "outputs": [
    {
     "data": {
      "image/png": "[encoded data removed]",
      "text/plain": [
       "<Figure size 432x288 with 1 Axes>"
      ]
     },
     "metadata": {
      "needs_background": "light"
     },
     "output_type": "display_data"
    }
   ],
   "source": [
    "plt.plot(timeDf.Week, timeDf.sales_per_week,\n",
    "         linewidth=2.0,\n",
    "         linestyle='-',\n",
    "         color='b',\n",
    "         alpha=1.0,marker='o')\n",
    "plt.xlabel('Weeks')\n",
    "plt.ylabel('Total Sales')\n",
    "plt.title('Week wise sales analysis')\n",
    "plt.show()"
   ]
  },
  {
   "cell_type": "code",
   "execution_count": 38,
   "metadata": {},
   "outputs": [
    {
     "data": {
      "text/plain": [
       "<matplotlib.collections.PathCollection at 0x200f7cef670>"
      ]
     },
     "execution_count": 38,
     "metadata": {},
     "output_type": "execute_result"
    },
    {
     "data": {
      "image/png": "[encoded data removed]",
      "text/plain": [
       "<Figure size 432x288 with 1 Axes>"
      ]
     },
     "metadata": {
      "needs_background": "light"
     },
     "output_type": "display_data"
    }
   ],
   "source": [
    "plt.scatter(mainDf.Review_score,mainDf.count_perCategory)"
   ]
  },
  {
   "cell_type": "code",
   "execution_count": 86,
   "metadata": {},
   "outputs": [
    {
     "data": {
      "text/plain": [
       "<matplotlib.collections.PathCollection at 0x200a135ef10>"
      ]
     },
     "execution_count": 86,
     "metadata": {},
     "output_type": "execute_result"
    },
    {
     "data": {
      "image/png": "[encoded data removed]",
      "text/plain": [
       "<Figure size 432x288 with 1 Axes>"
      ]
     },
     "metadata": {
      "needs_background": "light"
     },
     "output_type": "display_data"
    }
   ],
   "source": [
    "plt.scatter(mainDf.DiscountPercent,mainDf.count_perCategory)"
   ]
  },
  {
   "cell_type": "code",
   "execution_count": 87,
   "metadata": {},
   "outputs": [
    {
     "data": {
      "text/plain": [
       "<matplotlib.collections.PathCollection at 0x200a13b0760>"
      ]
     },
     "execution_count": 87,
     "metadata": {},
     "output_type": "execute_result"
    },
    {
     "data": {
      "image/png": "[encoded data removed]",
      "text/plain": [
       "<Figure size 432x288 with 1 Axes>"
      ]
     },
     "metadata": {
      "needs_background": "light"
     },
     "output_type": "display_data"
    }
   ],
   "source": [
    "plt.scatter(mainDf.final_AmountPaid,mainDf.count_perCategory)"
   ]
  },
  {
   "cell_type": "code",
   "execution_count": 39,
   "metadata": {},
   "outputs": [],
   "source": [
    "from pandas_profiling import ProfileReport"
   ]
  },
  {
   "cell_type": "code",
   "execution_count": 40,
   "metadata": {},
   "outputs": [],
   "source": [
    "profile=ProfileReport(mainDf,title='Dataset Profiling Report',explorative=True)"
   ]
  },
  {
   "cell_type": "code",
   "execution_count": 41,
   "metadata": {},
   "outputs": [
    {
     "data": {
      "application/vnd.jupyter.widget-view+json": {
       "model_id": "eb6caaad35cc475db07e2cf16680966b",
       "version_major": 2,
       "version_minor": 0
      },
      "text/plain": [
       "HBox(children=(FloatProgress(value=0.0, description='Summarize dataset', max=23.0, style=ProgressStyle(descrip…"
      ]
     },
     "metadata": {},
     "output_type": "display_data"
    },
    {
     "name": "stdout",
     "output_type": "stream",
     "text": [
      "\n"
     ]
    },
    {
     "data": {
      "application/vnd.jupyter.widget-view+json": {
       "model_id": "61d61b85009044258ac155ce6dca240f",
       "version_major": 2,
       "version_minor": 0
      },
      "text/plain": [
       "HBox(children=(FloatProgress(value=0.0, description='Generate report structure', max=1.0, style=ProgressStyle(…"
      ]
     },
     "metadata": {},
     "output_type": "display_data"
    },
    {
     "name": "stdout",
     "output_type": "stream",
     "text": [
      "\n"
     ]
    },
    {
     "data": {
      "application/vnd.jupyter.widget-view+json": {
       "model_id": "",
       "version_major": 2,
       "version_minor": 0
      },
      "text/plain": [
       "HBox(children=(FloatProgress(value=0.0, description='Render widgets', max=1.0, style=ProgressStyle(description…"
      ]
     },
     "metadata": {},
     "output_type": "display_data"
    },
    {
     "data": {
      "application/vnd.jupyter.widget-view+json": {
       "model_id": "04655c4f4ba8492abfab774a1371e5a1",
       "version_major": 2,
       "version_minor": 0
      },
      "text/plain": [
       "VBox(children=(Tab(children=(Tab(children=(GridBox(children=(VBox(children=(GridspecLayout(children=(HTML(valu…"
      ]
     },
     "metadata": {},
     "output_type": "display_data"
    }
   ],
   "source": [
    "profile.to_widgets()"
   ]
  },
  {
   "cell_type": "code",
   "execution_count": 42,
   "metadata": {},
   "outputs": [
    {
     "data": {
      "application/vnd.jupyter.widget-view+json": {
       "model_id": "f39015dd4f264251b88f673c822b85ba",
       "version_major": 2,
       "version_minor": 0
      },
      "text/plain": [
       "HBox(children=(FloatProgress(value=0.0, description='Render HTML', max=1.0, style=ProgressStyle(description_wi…"
      ]
     },
     "metadata": {},
     "output_type": "display_data"
    },
    {
     "name": "stdout",
     "output_type": "stream",
     "text": [
      "\n"
     ]
    },
    {
     "data": {
      "application/vnd.jupyter.widget-view+json": {
       "model_id": "9a5bf2b7371944e09b7dee2bdf4a70fb",
       "version_major": 2,
       "version_minor": 0
      },
      "text/plain": [
       "HBox(children=(FloatProgress(value=0.0, description='Export report to file', max=1.0, style=ProgressStyle(desc…"
      ]
     },
     "metadata": {},
     "output_type": "display_data"
    },
    {
     "name": "stdout",
     "output_type": "stream",
     "text": [
      "\n"
     ]
    }
   ],
   "source": [
    "profile.to_file('EDA_report.html')"
   ]
  },
  {
   "cell_type": "code",
   "execution_count": null,
   "metadata": {},
   "outputs": [],
   "source": []
  },
  {
   "cell_type": "code",
   "execution_count": null,
   "metadata": {},
   "outputs": [],
   "source": []
  },
  {
   "cell_type": "code",
   "execution_count": null,
   "metadata": {},
   "outputs": [],
   "source": []
  },
  {
   "cell_type": "code",
   "execution_count": null,
   "metadata": {},
   "outputs": [],
   "source": []
  },
  {
   "cell_type": "markdown",
   "metadata": {},
   "source": []
  },
  {
   "cell_type": "code",
   "execution_count": 43,
   "metadata": {},
   "outputs": [],
   "source": [
    "import xgboost\n",
    "from sklearn.linear_model import LinearRegression, Ridge, Lasso\n",
    "from sklearn.ensemble import RandomForestRegressor\n",
    "from sklearn.metrics import mean_absolute_error"
   ]
  },
  {
   "cell_type": "code",
   "execution_count": 49,
   "metadata": {},
   "outputs": [],
   "source": [
    "from sklearn.model_selection import cross_val_score\n",
    "from sklearn.metrics import mean_squared_error\n",
    "def train(model, X, y):\n",
    "    # train the model\n",
    "    model.fit(X, y)\n",
    "    \n",
    "    # predict the training set\n",
    "    pred = model.predict(X)\n",
    "    \n",
    "    # perform cross-validation\n",
    "    cv_score = cross_val_score(model, X, y, scoring='neg_mean_squared_error', cv=5)\n",
    "    cv_score = np.abs(np.mean(cv_score))\n",
    "    \n",
    "    print(\"Model Report\")\n",
    "    print(\"MSE:\",mean_squared_error(y,pred,sample_weight=y))\n",
    "    print(\"CV Score:\", cv_score)"
   ]
  },
  {
   "cell_type": "code",
   "execution_count": 50,
   "metadata": {},
   "outputs": [
    {
     "name": "stdout",
     "output_type": "stream",
     "text": [
      "Model Report\n",
      "MSE: 5.223019338065207\n",
      "CV Score: 735.8056273713598\n",
      "Model Report\n",
      "MSE: 2298.1328570044925\n",
      "CV Score: 724.1123581435675\n",
      "Model Report\n",
      "MSE: 2298.1336857372694\n",
      "CV Score: 724.1096464181794\n",
      "Model Report\n",
      "MSE: 188.15914742309585\n",
      "CV Score: 664.3770081840194\n"
     ]
    }
   ],
   "source": [
    "\n",
    "modelXG = xgboost.XGBRegressor() \n",
    "train(modelXG,X_train1,Y_train1)\n",
    "modelLR = LinearRegression(normalize=True)\n",
    "train(modelLR,X_train1,Y_train1)\n",
    "modelRidge = Ridge()\n",
    "train(modelRidge,X_train1,Y_train1)\n",
    "modelRF=RandomForestRegressor()\n",
    "train(modelRF,X_train1,Y_train1)\n",
    "#coef = pd.Series(model.coef_, X.columns).sort_values()\n",
    "#coef.plot(kind='bar', title=\"Model Coefficients\")\n",
    "#model.fit(X_train1,Y_train1)"
   ]
  },
  {
   "cell_type": "code",
   "execution_count": 51,
   "metadata": {},
   "outputs": [],
   "source": [
    "from sklearn.model_selection import GridSearchCV"
   ]
  },
  {
   "cell_type": "code",
   "execution_count": 52,
   "metadata": {},
   "outputs": [],
   "source": [
    "xgb1 = xgboost.XGBRegressor()\n",
    "parameters = {'nthread':[4], #when use hyperthread, xgboost may become slower\n",
    "              'objective':['reg:linear'],\n",
    "              'learning_rate': [0.02], #so called `eta` value\n",
    "              'max_depth': [9,10,11,20],\n",
    "              'min_child_weight': [3],\n",
    "              'silent': [1],\n",
    "              'subsample': [0.7],\n",
    "              'colsample_bytree': [0.7],\n",
    "              'n_estimators': [500,550,600]}\n",
    "\n",
    "xgb_grid = GridSearchCV(xgb1,\n",
    "                        parameters,\n",
    "                        cv = 5,\n",
    "                        n_jobs = 5,\n",
    "                        verbose=True)\n"
   ]
  },
  {
   "cell_type": "code",
   "execution_count": 53,
   "metadata": {},
   "outputs": [
    {
     "name": "stdout",
     "output_type": "stream",
     "text": [
      "Fitting 5 folds for each of 12 candidates, totalling 60 fits\n"
     ]
    },
    {
     "name": "stderr",
     "output_type": "stream",
     "text": [
      "[Parallel(n_jobs=5)]: Using backend LokyBackend with 5 concurrent workers.\n",
      "[Parallel(n_jobs=5)]: Done  40 tasks      | elapsed:   37.8s\n",
      "[Parallel(n_jobs=5)]: Done  60 out of  60 | elapsed:   50.5s finished\n"
     ]
    },
    {
     "name": "stdout",
     "output_type": "stream",
     "text": [
      "[00:11:45] WARNING: C:/Users/Administrator/workspace/xgboost-win64_release_1.2.0/src/objective/regression_obj.cu:174: reg:linear is now deprecated in favor of reg:squarederror.\n",
      "[00:11:45] WARNING: C:\\Users\\Administrator\\workspace\\xgboost-win64_release_1.2.0\\src\\learner.cc:516: \n",
      "Parameters: { silent } might not be used.\n",
      "\n",
      "  This may not be accurate due to some parameters are only used in language bindings but\n",
      "  passed down to XGBoost core.  Or some parameters are not used but slip through this\n",
      "  verification. Please open an issue if you find above cases.\n",
      "\n",
      "\n",
      "[00:11:46] WARNING: C:/Users/Administrator/workspace/xgboost-win64_release_1.2.0/src/objective/regression_obj.cu:174: reg:linear is now deprecated in favor of reg:squarederror.\n",
      "0.8772219750822392\n",
      "{'colsample_bytree': 0.7, 'learning_rate': 0.02, 'max_depth': 9, 'min_child_weight': 3, 'n_estimators': 500, 'nthread': 4, 'objective': 'reg:linear', 'silent': 1, 'subsample': 0.7}\n"
     ]
    }
   ],
   "source": [
    "xgb_grid.fit(X_train1, Y_train1)\n",
    "\n",
    "print(xgb_grid.best_score_)\n",
    "print(xgb_grid.best_params_)"
   ]
  },
  {
   "cell_type": "code",
   "execution_count": 114,
   "metadata": {},
   "outputs": [
    {
     "data": {
      "text/plain": [
       "XGBRegressor(base_score=0.5, booster='gbtree', colsample_bylevel=1,\n",
       "             colsample_bynode=1, colsample_bytree=1, gamma=0, gpu_id=-1,\n",
       "             importance_type='gain', interaction_constraints='',\n",
       "             learning_rate=0.02, max_delta_step=0, max_depth=9,\n",
       "             min_child_weight=3, missing=nan, monotone_constraints='()',\n",
       "             n_estimators=500, n_jobs=4, nthread=4, num_parallel_tree=1,\n",
       "             random_state=0, reg_alpha=0, reg_lambda=1, scale_pos_weight=1,\n",
       "             subsample=1, tree_method='exact', validate_parameters=1,\n",
       "             verbosity=None)"
      ]
     },
     "execution_count": 114,
     "metadata": {},
     "output_type": "execute_result"
    }
   ],
   "source": [
    "model=xgboost.XGBRegressor(nthread=4,learning_rate=0.02,max_depth=9,min_child_weight=3,n_estimators=500)\n",
    "model.fit(X_train1, Y_train1)\n"
   ]
  },
  {
   "cell_type": "code",
   "execution_count": null,
   "metadata": {},
   "outputs": [],
   "source": []
  },
  {
   "cell_type": "code",
   "execution_count": 115,
   "metadata": {},
   "outputs": [],
   "source": [
    "#y_pred_xg = model.predict(xgb.DMatrix(X_test1), ntree_limit = model.best_ntree_limit)\n",
    "y_pred_xg=model.predict(X_test1)\n",
    "df_xg=pd.DataFrame(X_test1)"
   ]
  },
  {
   "cell_type": "code",
   "execution_count": 116,
   "metadata": {},
   "outputs": [],
   "source": [
    "df_xg['predicted']=y_pred_xg"
   ]
  },
  {
   "cell_type": "code",
   "execution_count": 117,
   "metadata": {},
   "outputs": [],
   "source": [
    "df_xg['predicted']=df_xg.predicted.apply(lambda x: 0 if x <=0 else x)\n",
    "df_xg['Actual']=Y_test1"
   ]
  },
  {
   "cell_type": "code",
   "execution_count": 118,
   "metadata": {},
   "outputs": [
    {
     "data": {
      "text/html": [
       "<div>\n",
       "<style scoped>\n",
       "    .dataframe tbody tr th:only-of-type {\n",
       "        vertical-align: middle;\n",
       "    }\n",
       "\n",
       "    .dataframe tbody tr th {\n",
       "        vertical-align: top;\n",
       "    }\n",
       "\n",
       "    .dataframe thead th {\n",
       "        text-align: right;\n",
       "    }\n",
       "</style>\n",
       "<table border=\"1\" class=\"dataframe\">\n",
       "  <thead>\n",
       "    <tr style=\"text-align: right;\">\n",
       "      <th></th>\n",
       "      <th>Week</th>\n",
       "      <th>encodedCategory</th>\n",
       "      <th>paymentValue</th>\n",
       "      <th>final_AmountPaid</th>\n",
       "      <th>Review_score</th>\n",
       "      <th>Days_to_deliver</th>\n",
       "      <th>DiscountPercent</th>\n",
       "      <th>SaleRecord_last6week</th>\n",
       "      <th>predicted</th>\n",
       "      <th>Actual</th>\n",
       "    </tr>\n",
       "  </thead>\n",
       "  <tbody>\n",
       "    <tr>\n",
       "      <th>2065</th>\n",
       "      <td>35</td>\n",
       "      <td>0</td>\n",
       "      <td>224.600000</td>\n",
       "      <td>56.150000</td>\n",
       "      <td>5.000000</td>\n",
       "      <td>36.021817</td>\n",
       "      <td>75.000000</td>\n",
       "      <td>7.500000</td>\n",
       "      <td>3.454233</td>\n",
       "      <td>4</td>\n",
       "    </tr>\n",
       "    <tr>\n",
       "      <th>2066</th>\n",
       "      <td>35</td>\n",
       "      <td>1</td>\n",
       "      <td>561.277500</td>\n",
       "      <td>319.352500</td>\n",
       "      <td>4.750000</td>\n",
       "      <td>14.672807</td>\n",
       "      <td>43.102565</td>\n",
       "      <td>8.000000</td>\n",
       "      <td>5.474029</td>\n",
       "      <td>4</td>\n",
       "    </tr>\n",
       "    <tr>\n",
       "      <th>2067</th>\n",
       "      <td>35</td>\n",
       "      <td>2</td>\n",
       "      <td>83.465000</td>\n",
       "      <td>83.465000</td>\n",
       "      <td>4.500000</td>\n",
       "      <td>12.122361</td>\n",
       "      <td>0.000000</td>\n",
       "      <td>4.666667</td>\n",
       "      <td>3.894672</td>\n",
       "      <td>2</td>\n",
       "    </tr>\n",
       "    <tr>\n",
       "      <th>2068</th>\n",
       "      <td>35</td>\n",
       "      <td>4</td>\n",
       "      <td>22.290000</td>\n",
       "      <td>22.290000</td>\n",
       "      <td>5.000000</td>\n",
       "      <td>5.612465</td>\n",
       "      <td>0.000000</td>\n",
       "      <td>9.833333</td>\n",
       "      <td>4.962832</td>\n",
       "      <td>1</td>\n",
       "    </tr>\n",
       "    <tr>\n",
       "      <th>2069</th>\n",
       "      <td>35</td>\n",
       "      <td>5</td>\n",
       "      <td>113.403793</td>\n",
       "      <td>113.403793</td>\n",
       "      <td>4.517241</td>\n",
       "      <td>16.957255</td>\n",
       "      <td>0.000000</td>\n",
       "      <td>139.166667</td>\n",
       "      <td>136.144409</td>\n",
       "      <td>29</td>\n",
       "    </tr>\n",
       "  </tbody>\n",
       "</table>\n",
       "</div>"
      ],
      "text/plain": [
       "      Week  encodedCategory  paymentValue  final_AmountPaid  Review_score  \\\n",
       "2065    35                0    224.600000         56.150000      5.000000   \n",
       "2066    35                1    561.277500        319.352500      4.750000   \n",
       "2067    35                2     83.465000         83.465000      4.500000   \n",
       "2068    35                4     22.290000         22.290000      5.000000   \n",
       "2069    35                5    113.403793        113.403793      4.517241   \n",
       "\n",
       "      Days_to_deliver  DiscountPercent  SaleRecord_last6week   predicted  \\\n",
       "2065        36.021817        75.000000              7.500000    3.454233   \n",
       "2066        14.672807        43.102565              8.000000    5.474029   \n",
       "2067        12.122361         0.000000              4.666667    3.894672   \n",
       "2068         5.612465         0.000000              9.833333    4.962832   \n",
       "2069        16.957255         0.000000            139.166667  136.144409   \n",
       "\n",
       "      Actual  \n",
       "2065       4  \n",
       "2066       4  \n",
       "2067       2  \n",
       "2068       1  \n",
       "2069      29  "
      ]
     },
     "execution_count": 118,
     "metadata": {},
     "output_type": "execute_result"
    }
   ],
   "source": [
    "df_xg.head()"
   ]
  },
  {
   "cell_type": "code",
   "execution_count": 119,
   "metadata": {},
   "outputs": [
    {
     "data": {
      "text/plain": [
       "2691"
      ]
     },
     "execution_count": 119,
     "metadata": {},
     "output_type": "execute_result"
    }
   ],
   "source": [
    "(df_xg['predicted'] - df_xg['Actual']).abs().idxmax()\n"
   ]
  },
  {
   "cell_type": "code",
   "execution_count": 120,
   "metadata": {},
   "outputs": [
    {
     "data": {
      "text/plain": [
       "Week                     47.000000\n",
       "encodedCategory           7.000000\n",
       "paymentValue            149.142079\n",
       "final_AmountPaid        106.351882\n",
       "Review_score              3.144420\n",
       "Days_to_deliver          22.250766\n",
       "DiscountPercent          28.690895\n",
       "SaleRecord_last6week    151.166667\n",
       "predicted               166.511368\n",
       "Actual                  457.000000\n",
       "Name: 2691, dtype: float64"
      ]
     },
     "execution_count": 120,
     "metadata": {},
     "output_type": "execute_result"
    }
   ],
   "source": [
    "df_xg.loc[ 2691 , : ]"
   ]
  },
  {
   "cell_type": "code",
   "execution_count": 121,
   "metadata": {},
   "outputs": [
    {
     "data": {
      "text/plain": [
       "45.79805592110194"
      ]
     },
     "execution_count": 121,
     "metadata": {},
     "output_type": "execute_result"
    }
   ],
   "source": [
    "mean_absolute_error(Y_test1,y_pred_xg,sample_weight=Y_test1)"
   ]
  },
  {
   "cell_type": "code",
   "execution_count": 122,
   "metadata": {},
   "outputs": [],
   "source": [
    "timeDfPred=df_xg[['Week','predicted','Actual']]\n",
    "timeDfPred=timeDfPred.groupby(['Week']).agg({'predicted':'sum','Actual':'sum'})\n",
    "timeDfPred.columns = ['sales_per_week_pred','sales_per_week_actual']\n",
    "timeDfPred=timeDfPred.reset_index(level=['Week'])"
   ]
  },
  {
   "cell_type": "code",
   "execution_count": 123,
   "metadata": {},
   "outputs": [
    {
     "data": {
      "image/png": "[encoded data removed]",
      "text/plain": [
       "<Figure size 432x288 with 1 Axes>"
      ]
     },
     "metadata": {
      "needs_background": "light"
     },
     "output_type": "display_data"
    }
   ],
   "source": [
    "plt.plot(timeDfPred.Week, timeDfPred.sales_per_week_pred,\n",
    "         linewidth=1.0,\n",
    "         linestyle='-',\n",
    "         color='b',\n",
    "         alpha=1.0,marker='o')\n",
    "plt.plot(timeDfPred.Week, timeDfPred.sales_per_week_actual,\n",
    "         linewidth=1.0,\n",
    "         linestyle='dotted',\n",
    "         color='b',\n",
    "         alpha=1.0,marker='o')\n",
    "\n",
    "plt.xlabel('Weeks')\n",
    "plt.ylabel('Total Sales')\n",
    "plt.title('Week wise sales analysis')\n",
    "plt.show()"
   ]
  },
  {
   "cell_type": "code",
   "execution_count": null,
   "metadata": {},
   "outputs": [],
   "source": []
  },
  {
   "cell_type": "code",
   "execution_count": null,
   "metadata": {},
   "outputs": [],
   "source": []
  },
  {
   "cell_type": "code",
   "execution_count": null,
   "metadata": {},
   "outputs": [],
   "source": []
  },
  {
   "cell_type": "code",
   "execution_count": null,
   "metadata": {},
   "outputs": [],
   "source": []
  },
  {
   "cell_type": "code",
   "execution_count": null,
   "metadata": {},
   "outputs": [],
   "source": []
  },
  {
   "cell_type": "code",
   "execution_count": null,
   "metadata": {},
   "outputs": [],
   "source": []
  },
  {
   "cell_type": "code",
   "execution_count": null,
   "metadata": {},
   "outputs": [],
   "source": []
  },
  {
   "cell_type": "code",
   "execution_count": null,
   "metadata": {},
   "outputs": [],
   "source": []
  },
  {
   "cell_type": "code",
   "execution_count": null,
   "metadata": {},
   "outputs": [],
   "source": []
  },
  {
   "cell_type": "code",
   "execution_count": null,
   "metadata": {},
   "outputs": [],
   "source": []
  },
  {
   "cell_type": "code",
   "execution_count": null,
   "metadata": {},
   "outputs": [],
   "source": []
  },
  {
   "cell_type": "code",
   "execution_count": null,
   "metadata": {},
   "outputs": [],
   "source": []
  }
 ],
 "metadata": {
  "kernelspec": {
   "display_name": "Python 3",
   "language": "python",
   "name": "python3"
  },
  "language_info": {
   "codemirror_mode": {
    "name": "ipython",
    "version": 3
   },
   "file_extension": ".py",
   "mimetype": "text/x-python",
   "name": "python",
   "nbconvert_exporter": "python",
   "pygments_lexer": "ipython3",
   "version": "3.8.3"
  }
 },
 "nbformat": 4,
 "nbformat_minor": 4
}
